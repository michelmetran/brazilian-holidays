{
 "cells": [
  {
   "attachments": {},
   "cell_type": "markdown",
   "metadata": {},
   "source": [
    "<br>\n",
    "\n",
    "# Introdução\n"
   ]
  },
  {
   "cell_type": "code",
   "execution_count": null,
   "metadata": {},
   "outputs": [],
   "source": [
    "#!pip3 install feriados-brasileiros\n",
    "#!pip3 uninstall feriados-brasileiros"
   ]
  },
  {
   "cell_type": "code",
   "execution_count": null,
   "metadata": {},
   "outputs": [],
   "source": [
    "import importlib\n",
    "from datetime import date, datetime\n",
    "\n",
    "import numpy as np\n",
    "import pandas as pd\n",
    "\n",
    "from feriados_brasileiros import datas"
   ]
  },
  {
   "cell_type": "code",
   "execution_count": null,
   "metadata": {},
   "outputs": [],
   "source": [
    "importlib.reload(datas)"
   ]
  },
  {
   "cell_type": "code",
   "execution_count": null,
   "metadata": {},
   "outputs": [],
   "source": [
    "# Check Version\n",
    "import feriados_brasileiros\n",
    "\n",
    "# feriados_brasileiros.__version__"
   ]
  },
  {
   "cell_type": "markdown",
   "metadata": {},
   "source": [
    "<br>\n",
    "\n",
    "## Testes\n"
   ]
  },
  {
   "cell_type": "code",
   "execution_count": null,
   "metadata": {},
   "outputs": [],
   "source": [
    "feriados = datas.Feriados(ano=2023)\n",
    "feriados"
   ]
  },
  {
   "cell_type": "code",
   "execution_count": null,
   "metadata": {},
   "outputs": [],
   "source": [
    "feriados = datas.Feriados(ano=2023)\n",
    "feriados.add_all()\n",
    "feriados"
   ]
  },
  {
   "cell_type": "code",
   "execution_count": null,
   "metadata": {},
   "outputs": [],
   "source": [
    "feriados = datas.Feriados(ano=2023)\n",
    "feriados.add_natal()\n",
    "feriados"
   ]
  },
  {
   "cell_type": "markdown",
   "metadata": {},
   "source": [
    "<br>\n",
    "\n",
    "## Tabela\n"
   ]
  },
  {
   "cell_type": "code",
   "execution_count": null,
   "metadata": {},
   "outputs": [],
   "source": [
    "# Create Table\n",
    "df = feriados.create_table()\n",
    "\n",
    "# Resultados\n",
    "display(df.info())\n",
    "display(df.head(2))"
   ]
  },
  {
   "attachments": {},
   "cell_type": "markdown",
   "metadata": {},
   "source": [
    "<br>\n",
    "\n",
    "## Calendário\n"
   ]
  },
  {
   "cell_type": "code",
   "execution_count": null,
   "metadata": {},
   "outputs": [],
   "source": [
    "feriados_22 = datas.Feriados(ano=2022)\n",
    "feriados_22.add_all()\n",
    "# print(feriados_22)\n",
    "\n",
    "feriados_23 = datas.Feriados(ano=2023)\n",
    "feriados_23.add_all()\n",
    "# feriados_23"
   ]
  },
  {
   "cell_type": "code",
   "execution_count": null,
   "metadata": {},
   "outputs": [],
   "source": [
    "# Resultados\n",
    "calendario = datas.Calendario()\n",
    "df_feriados = calendario.create_table(\n",
    "    tabelas_feriados=[feriados_22, feriados_23]\n",
    ")\n"
   ]
  },
  {
   "cell_type": "code",
   "execution_count": null,
   "metadata": {},
   "outputs": [],
   "source": [
    "print(calendario)"
   ]
  },
  {
   "cell_type": "code",
   "execution_count": null,
   "metadata": {},
   "outputs": [],
   "source": [
    "df_feriados\n",
    "print(df_feriados.head(2))\n",
    "print(df_feriados.tail(2))"
   ]
  },
  {
   "cell_type": "code",
   "execution_count": null,
   "metadata": {},
   "outputs": [],
   "source": [
    "calendario.create_list()"
   ]
  },
  {
   "attachments": {},
   "cell_type": "markdown",
   "metadata": {},
   "source": [
    "<br>\n",
    "\n",
    "## date-util\n",
    "\n",
    "Para usar o date-util, preciso chegar do seguinde formato. Quero chegar a partir de uma tabela!\n",
    "\n",
    "`[datetime.datetime(2023, 6, 17, 0, 0), datetime.datetime(2023, 6, 16, 0, 0)]`\n"
   ]
  },
  {
   "cell_type": "code",
   "execution_count": null,
   "metadata": {},
   "outputs": [],
   "source": [
    "df = pd.DataFrame(\n",
    "    {\n",
    "        'date': ['04/03/2022', '05/03/2022', '06/03/2022'],\n",
    "        'patients': [16, 19, 11],\n",
    "    }\n",
    ")\n",
    "\n",
    "# Ajustes\n",
    "df['date'] = pd.to_datetime(df['date'])\n",
    "\n",
    "# Results\n",
    "df.info()\n",
    "df.head()"
   ]
  },
  {
   "cell_type": "code",
   "execution_count": null,
   "metadata": {},
   "outputs": [],
   "source": [
    "df = pd.DataFrame(\n",
    "    {\n",
    "        'date': ['04/03/2022', '05/03/2022', '06/03/2022', None],\n",
    "        'patients': [16, 19, 11, 23],\n",
    "    }\n",
    ")\n",
    "\n",
    "# Ajustes\n",
    "df['date'] = pd.to_datetime(df['date'])\n",
    "df = df[pd.notna(df['date'])]\n",
    "\n",
    "# Results\n",
    "df.info()\n",
    "df.head()"
   ]
  },
  {
   "cell_type": "code",
   "execution_count": null,
   "metadata": {},
   "outputs": [],
   "source": []
  },
  {
   "cell_type": "code",
   "execution_count": null,
   "metadata": {},
   "outputs": [],
   "source": []
  }
 ],
 "metadata": {
  "kernelspec": {
   "display_name": "pablocarreira-lastest",
   "language": "python",
   "name": "python3"
  },
  "language_info": {
   "codemirror_mode": {
    "name": "ipython",
    "version": 3
   },
   "file_extension": ".py",
   "mimetype": "text/x-python",
   "name": "python",
   "nbconvert_exporter": "python",
   "pygments_lexer": "ipython3",
   "version": "3.10.11"
  }
 },
 "nbformat": 4,
 "nbformat_minor": 2
}
