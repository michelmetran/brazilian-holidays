{
 "cells": [
  {
   "attachments": {},
   "cell_type": "markdown",
   "metadata": {},
   "source": [
    "<br>\n",
    "\n",
    "# Introdução\n"
   ]
  },
  {
   "cell_type": "code",
   "execution_count": null,
   "metadata": {},
   "outputs": [],
   "source": [
    "#!pip3 install feriados-brasileiros\n",
    "#!pip3 uninstall feriados-brasileiros"
   ]
  },
  {
   "cell_type": "code",
   "execution_count": null,
   "metadata": {},
   "outputs": [],
   "source": [
    "import importlib\n",
    "from datetime import date, datetime, timedelta\n",
    "\n",
    "import numpy as np\n",
    "import pandas as pd\n",
    "\n",
    "from feriados_brasileiros import datas\n",
    "from feriados_brasileiros.paths import data_path"
   ]
  },
  {
   "cell_type": "code",
   "execution_count": null,
   "metadata": {},
   "outputs": [],
   "source": [
    "importlib.reload(datas)"
   ]
  },
  {
   "cell_type": "code",
   "execution_count": null,
   "metadata": {},
   "outputs": [],
   "source": [
    "# Check Version\n",
    "import feriados_brasileiros\n",
    "\n",
    "# feriados_brasileiros.__version__"
   ]
  },
  {
   "cell_type": "markdown",
   "metadata": {},
   "source": [
    "<br>\n",
    "\n",
    "## Testes\n"
   ]
  },
  {
   "cell_type": "code",
   "execution_count": null,
   "metadata": {},
   "outputs": [],
   "source": [
    "feriados = datas.Feriados(ano=2023)\n",
    "feriados.add(nome='Páscoa')\n",
    "feriados"
   ]
  },
  {
   "cell_type": "code",
   "execution_count": null,
   "metadata": {},
   "outputs": [],
   "source": [
    "feriados = datas.Feriados(ano=2023)\n",
    "feriados"
   ]
  },
  {
   "cell_type": "code",
   "execution_count": null,
   "metadata": {},
   "outputs": [],
   "source": [
    "feriados.feriados_disponiveis"
   ]
  },
  {
   "cell_type": "code",
   "execution_count": null,
   "metadata": {},
   "outputs": [],
   "source": [
    "feriados = datas.Feriados(ano=2023)\n",
    "feriados.add(nome='Páscoa')\n",
    "df = feriados.create_table()\n",
    "df.head(10)"
   ]
  },
  {
   "cell_type": "code",
   "execution_count": null,
   "metadata": {},
   "outputs": [],
   "source": [
    "feriados = datas.Feriados(ano=2023)\n",
    "feriados.add_all()\n",
    "df = feriados.create_table()\n",
    "df.head(10)"
   ]
  },
  {
   "cell_type": "code",
   "execution_count": null,
   "metadata": {},
   "outputs": [],
   "source": [
    "feriados = datas.Feriados(ano=2023)\n",
    "feriados.add_all()\n",
    "feriados_feriados = feriados.create_list()\n",
    "feriados_feriados"
   ]
  },
  {
   "cell_type": "code",
   "execution_count": null,
   "metadata": {},
   "outputs": [],
   "source": [
    "feriados = datas.Feriados(ano=2023)\n",
    "feriados.add_all()\n",
    "feriados.add_custom(\n",
    "    nome='Aniversário da Cidade', mes=5, dia=5, feriado=True, tipo='Fixo'\n",
    ")\n",
    "feriados"
   ]
  },
  {
   "cell_type": "code",
   "execution_count": null,
   "metadata": {},
   "outputs": [],
   "source": [
    "feriados = datas.Feriados(ano=2023)\n",
    "feriados.add_all()\n",
    "feriados.next_feriado()"
   ]
  },
  {
   "cell_type": "code",
   "execution_count": null,
   "metadata": {},
   "outputs": [],
   "source": [
    "feriados = datas.Feriados(ano=2023)\n",
    "feriados.add_all()\n",
    "feriados.remove('Domingo de Ramos')\n",
    "feriados.remove('Endoenças')\n",
    "feriados.remove('Dia da Consciência Negra')\n",
    "feriados"
   ]
  },
  {
   "cell_type": "markdown",
   "metadata": {},
   "source": [
    "<br>\n",
    "\n",
    "## Tabela\n"
   ]
  },
  {
   "cell_type": "code",
   "execution_count": null,
   "metadata": {},
   "outputs": [],
   "source": [
    "# Create Table\n",
    "df = feriados.create_table()\n",
    "\n",
    "# Resultados\n",
    "display(df.info())\n",
    "display(df.head(2))"
   ]
  },
  {
   "cell_type": "code",
   "execution_count": null,
   "metadata": {
    "is_executing": true
   },
   "outputs": [],
   "source": [
    "# df.to_csv(data_path / f'feriados_.csv', index=False)\n",
    "# df.to_excel(data_path / f'feriado.xlsx', index=False)"
   ]
  },
  {
   "attachments": {},
   "cell_type": "markdown",
   "metadata": {},
   "source": [
    "<br>\n",
    "\n",
    "## Calendário\n"
   ]
  },
  {
   "cell_type": "code",
   "execution_count": null,
   "metadata": {
    "is_executing": true
   },
   "outputs": [],
   "source": [
    "feriados_22 = datas.Feriados(ano=2022)\n",
    "feriados_22.add_all()\n",
    "# print(feriados_22)\n",
    "\n",
    "feriados_23 = datas.Feriados(ano=2023)\n",
    "feriados_23.add_all()\n",
    "# feriados_23"
   ]
  },
  {
   "cell_type": "code",
   "execution_count": null,
   "metadata": {
    "is_executing": true
   },
   "outputs": [],
   "source": [
    "# Resultados\n",
    "calendario = datas.Calendario()\n",
    "df_feriados = calendario.create_table(\n",
    "    tabelas_feriados=[feriados_22, feriados_23]\n",
    ")\n",
    "#df_feriados.to_csv(data_path / f'feriados_.csv', index=False)"
   ]
  },
  {
   "cell_type": "code",
   "execution_count": null,
   "metadata": {},
   "outputs": [],
   "source": [
    "print(calendario)"
   ]
  },
  {
   "cell_type": "code",
   "execution_count": null,
   "metadata": {},
   "outputs": [],
   "source": [
    "df_feriados\n",
    "print(df_feriados.head(2))\n",
    "print(df_feriados.tail(2))"
   ]
  },
  {
   "cell_type": "code",
   "execution_count": null,
   "metadata": {},
   "outputs": [],
   "source": [
    "calendario.create_list()"
   ]
  },
  {
   "cell_type": "code",
   "execution_count": null,
   "metadata": {},
   "outputs": [],
   "source": [
    "dict_tipo = {\n",
    "        # Móvel\n",
    "        'Carnaval (seg)': {\n",
    "            'data': 'dt_carnaval_seg',\n",
    "            'nome_alternativo': None,\n",
    "            'feriado': True,\n",
    "            'tipo': 'Móvel',\n",
    "            'obs': None,\n",
    "        },\n",
    "        'Carnaval (ter)': {\n",
    "            'data': 'dt_carnaval_ter',\n",
    "            'nome_alternativo': None,\n",
    "            'feriado': True,\n",
    "            'tipo': 'Móvel',\n",
    "            'obs': None,\n",
    "        }}\n",
    "\n",
    "dict_tipo"
   ]
  },
  {
   "cell_type": "code",
   "execution_count": null,
   "metadata": {},
   "outputs": [],
   "source": [
    "aa = dict_tipo.pop('Carnaval (seg)')\n",
    "dict_tipo"
   ]
  },
  {
   "cell_type": "code",
   "execution_count": null,
   "metadata": {},
   "outputs": [],
   "source": [
    "aa['data']"
   ]
  },
  {
   "cell_type": "code",
   "execution_count": null,
   "metadata": {},
   "outputs": [],
   "source": []
  }
 ],
 "metadata": {
  "kernelspec": {
   "display_name": "pablocarreira-lastest",
   "language": "python",
   "name": "python3"
  },
  "language_info": {
   "codemirror_mode": {
    "name": "ipython",
    "version": 3
   },
   "file_extension": ".py",
   "mimetype": "text/x-python",
   "name": "python",
   "nbconvert_exporter": "python",
   "pygments_lexer": "ipython3",
   "version": "3.10.11"
  }
 },
 "nbformat": 4,
 "nbformat_minor": 2
}
