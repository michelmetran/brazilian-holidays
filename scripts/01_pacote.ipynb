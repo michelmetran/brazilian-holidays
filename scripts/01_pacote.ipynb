{
 "cells": [
  {
   "attachments": {},
   "cell_type": "markdown",
   "metadata": {},
   "source": [
    "<br>\n",
    "\n",
    "# Introdução\n"
   ]
  },
  {
   "cell_type": "code",
   "execution_count": null,
   "metadata": {},
   "outputs": [],
   "source": [
    "#!pip3 install feriados-brasileiros\n",
    "#!pip3 uninstall feriados-brasileiros"
   ]
  },
  {
   "cell_type": "code",
   "execution_count": null,
   "metadata": {},
   "outputs": [],
   "source": [
    "import importlib\n",
    "from datetime import date, datetime, timedelta\n",
    "\n",
    "import numpy as np\n",
    "import pandas as pd\n",
    "from my_paths import data_path\n",
    "\n",
    "from feriados_brasileiros import datas\n",
    "\n",
    "importlib.reload(datas)"
   ]
  },
  {
   "cell_type": "code",
   "execution_count": null,
   "metadata": {},
   "outputs": [],
   "source": [
    "# Check Version\n",
    "import feriados_brasileiros\n",
    "\n",
    "# feriados_brasileiros.__version__"
   ]
  },
  {
   "cell_type": "markdown",
   "metadata": {},
   "source": [
    "<br>\n",
    "\n",
    "## Testes\n"
   ]
  },
  {
   "cell_type": "code",
   "execution_count": null,
   "metadata": {},
   "outputs": [],
   "source": [
    "feriados = datas.Feriados(ano=2023)\n",
    "feriados.add(nome='Sexta-feira Santa', nome_alternativo='Paixão de Cristo')\n",
    "feriados"
   ]
  },
  {
   "cell_type": "code",
   "execution_count": null,
   "metadata": {},
   "outputs": [],
   "source": [
    "feriados = datas.Feriados(ano=2023)\n",
    "feriados"
   ]
  },
  {
   "cell_type": "code",
   "execution_count": null,
   "metadata": {},
   "outputs": [],
   "source": [
    "feriados.feriados_disponiveis"
   ]
  },
  {
   "cell_type": "code",
   "execution_count": null,
   "metadata": {},
   "outputs": [],
   "source": [
    "feriados = datas.Feriados(ano=2023)\n",
    "feriados.add(nome='Páscoa')\n",
    "df = feriados.create_table()\n",
    "df.head(10)"
   ]
  },
  {
   "cell_type": "code",
   "execution_count": null,
   "metadata": {},
   "outputs": [],
   "source": [
    "feriados = datas.Feriados(ano=2023)\n",
    "feriados.add_all()\n",
    "df = feriados.create_table()\n",
    "df.head(10)"
   ]
  },
  {
   "cell_type": "code",
   "execution_count": null,
   "metadata": {},
   "outputs": [],
   "source": [
    "feriados = datas.Feriados(ano=2023)\n",
    "feriados.add_all()\n",
    "feriados_feriados = feriados.create_list(tipo='datetime')\n",
    "feriados_feriados"
   ]
  },
  {
   "cell_type": "code",
   "execution_count": null,
   "metadata": {},
   "outputs": [],
   "source": [
    "feriados = datas.Feriados(ano=2023)\n",
    "feriados.add_all()\n",
    "feriados.add_custom(\n",
    "    nome='Santo Antonio',\n",
    "    mes=6,\n",
    "    dia=13,\n",
    "    feriado=True,\n",
    "    tipo='Fixo',\n",
    "    obs='Feriado Municipal de Piracicaba',\n",
    ")\n",
    "feriados.add_custom(\n",
    "    nome='Zumbi dos Palmares',\n",
    "    mes=11,\n",
    "    dia=20,\n",
    "    feriado=True,\n",
    "    tipo='Fixo',\n",
    "    obs='Feriado Municipal de Piracicaba',\n",
    ")\n",
    "feriados.add_custom(\n",
    "    nome='Imaculada Conceição',\n",
    "    mes=12,\n",
    "    dia=8,\n",
    "    feriado=True,\n",
    "    tipo='Fixo',\n",
    "    obs='Feriado Municipal de Piracicaba',\n",
    ")\n",
    "feriados.add_custom(\n",
    "    nome='Revolução Constitucionalista',\n",
    "    mes=7,\n",
    "    dia=9,\n",
    "    feriado=True,\n",
    "    tipo='Fixo',\n",
    "    obs='Feriado Estadual',\n",
    ")\n",
    "feriados.add_custom(\n",
    "    nome='Dia do Servidor Público',\n",
    "    mes=10,\n",
    "    dia=28,\n",
    "    feriado=True,\n",
    "    tipo='Fixo',\n",
    ")\n",
    "\n",
    "\n",
    "feriados"
   ]
  },
  {
   "cell_type": "code",
   "execution_count": null,
   "metadata": {},
   "outputs": [],
   "source": [
    "feriados = datas.Feriados(ano=2023)\n",
    "feriados.add_all()\n",
    "feriados.next_feriado()"
   ]
  },
  {
   "cell_type": "code",
   "execution_count": null,
   "metadata": {},
   "outputs": [],
   "source": [
    "feriados = datas.Feriados(ano=2023)\n",
    "feriados.add_all()\n",
    "feriados.remove('Domingo de Ramos')\n",
    "feriados.remove('Endoenças')\n",
    "feriados.remove('Dia da Consciência Negra')\n",
    "feriados"
   ]
  },
  {
   "cell_type": "markdown",
   "metadata": {},
   "source": [
    "<br>\n",
    "\n",
    "## Tabela\n"
   ]
  },
  {
   "cell_type": "code",
   "execution_count": null,
   "metadata": {},
   "outputs": [],
   "source": [
    "# Create Table\n",
    "df_feriados = feriados.create_table()\n",
    "\n",
    "# Resultados\n",
    "display(df_feriados.info())\n",
    "display(df_feriados.head(2))"
   ]
  },
  {
   "cell_type": "code",
   "execution_count": null,
   "metadata": {
    "is_executing": true
   },
   "outputs": [],
   "source": [
    "# df_feriados.to_csv(data_path / f'feriados.csv', index=False)\n",
    "# df_feriados.to_excel(data_path / f'feriado.xlsx', index=False)"
   ]
  },
  {
   "attachments": {},
   "cell_type": "markdown",
   "metadata": {},
   "source": [
    "<br>\n",
    "\n",
    "## Calendário\n"
   ]
  },
  {
   "cell_type": "code",
   "execution_count": null,
   "metadata": {
    "is_executing": true
   },
   "outputs": [],
   "source": [
    "feriados_22 = datas.Feriados(ano=2022)\n",
    "feriados_22.add_all()\n",
    "# print(feriados_22)\n",
    "\n",
    "feriados_23 = datas.Feriados(ano=2023)\n",
    "feriados_23.add_all()\n",
    "# feriados_23"
   ]
  },
  {
   "cell_type": "code",
   "execution_count": null,
   "metadata": {
    "is_executing": true
   },
   "outputs": [],
   "source": [
    "# Resultados\n",
    "calendario = datas.Calendario()\n",
    "df_feriados = calendario.create_table(\n",
    "    tabelas_feriados=[feriados_22, feriados_23]\n",
    ")\n",
    "# df_feriados.to_csv(data_path / f'feriados_.csv', index=False)"
   ]
  },
  {
   "cell_type": "code",
   "execution_count": null,
   "metadata": {},
   "outputs": [],
   "source": [
    "print(calendario)"
   ]
  },
  {
   "cell_type": "code",
   "execution_count": null,
   "metadata": {},
   "outputs": [],
   "source": [
    "df_feriados\n",
    "print(df_feriados.head(2))\n",
    "print(df_feriados.tail(2))"
   ]
  },
  {
   "cell_type": "code",
   "execution_count": null,
   "metadata": {},
   "outputs": [],
   "source": [
    "calendario.create_list(tipo='datetime')"
   ]
  },
  {
   "cell_type": "code",
   "execution_count": null,
   "metadata": {},
   "outputs": [],
   "source": []
  }
 ],
 "metadata": {
  "kernelspec": {
   "display_name": "pablocarreira-lastest",
   "language": "python",
   "name": "python3"
  },
  "language_info": {
   "codemirror_mode": {
    "name": "ipython",
    "version": 3
   },
   "file_extension": ".py",
   "mimetype": "text/x-python",
   "name": "python",
   "nbconvert_exporter": "python",
   "pygments_lexer": "ipython3",
   "version": "3.10.11"
  }
 },
 "nbformat": 4,
 "nbformat_minor": 2
}
