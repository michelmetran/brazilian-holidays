{
 "cells": [
  {
   "attachments": {},
   "cell_type": "markdown",
   "metadata": {},
   "source": [
    "<br>\n",
    "\n",
    "# Introdução\n"
   ]
  },
  {
   "cell_type": "code",
   "execution_count": null,
   "metadata": {},
   "outputs": [],
   "source": [
    "!pip3 install feriados-brasileiros"
   ]
  },
  {
   "cell_type": "code",
   "execution_count": null,
   "metadata": {},
   "outputs": [],
   "source": [
    "from datetime import date, datetime\n",
    "import numpy as np\n",
    "import pandas as pd\n",
    "\n",
    "from feriados_brasileiros import feriados"
   ]
  },
  {
   "cell_type": "code",
   "execution_count": null,
   "metadata": {},
   "outputs": [],
   "source": [
    "feriados = feriados.Moveis(ano=2023)\n",
    "feriados"
   ]
  },
  {
   "cell_type": "code",
   "execution_count": null,
   "metadata": {},
   "outputs": [],
   "source": [
    "list_fff = ['1', 'dfsdfdsfdsfdsf', 2, None]\n",
    "list_fff"
   ]
  },
  {
   "cell_type": "code",
   "execution_count": null,
   "metadata": {},
   "outputs": [],
   "source": [
    "feriados.Fixos"
   ]
  },
  {
   "cell_type": "code",
   "execution_count": null,
   "metadata": {},
   "outputs": [],
   "source": [
    "ano = 2023\n",
    "ano = (2023, 2021)\n",
    "# ano = [2023, 2025]\n",
    "\n",
    "if isinstance(ano, int):\n",
    "    print('é inteiro')\n",
    "\n",
    "if isinstance(ano, tuple):\n",
    "    print('é tupla')\n",
    "    if not ano[0] <= ano[1]:\n",
    "        raise Warning(\n",
    "            f'\\nPrimeira data ({ano[0]}) deve ser menor que segunda data ({ano[1]}).\\nSugestão: insira ({ano[1]}, {ano[0]})'\n",
    "        )\n",
    "\n",
    "if isinstance(ano, list):\n",
    "    print('é lista')"
   ]
  },
  {
   "attachments": {},
   "cell_type": "markdown",
   "metadata": {},
   "source": [
    "<br>\n",
    "\n",
    "## date-util\n",
    "\n",
    "Para usar o date-util, preciso chegar do seguinde formato. Quero chegar a partir de uma tabela!\n",
    "\n",
    "`[datetime.datetime(2023, 6, 17, 0, 0), datetime.datetime(2023, 6, 16, 0, 0)]`\n"
   ]
  },
  {
   "cell_type": "code",
   "execution_count": null,
   "metadata": {},
   "outputs": [],
   "source": [
    "df = pd.DataFrame(\n",
    "    {\n",
    "        'date': ['04/03/2022', '05/03/2022', '06/03/2022'],\n",
    "        'patients': [16, 19, 11],\n",
    "    }\n",
    ")\n",
    "\n",
    "df.dtypes\n",
    "df['date'] = pd.to_datetime(df['date'])\n",
    "df.info()\n",
    "df.head()"
   ]
  },
  {
   "cell_type": "code",
   "execution_count": null,
   "metadata": {},
   "outputs": [],
   "source": [
    "list()"
   ]
  },
  {
   "cell_type": "code",
   "execution_count": null,
   "metadata": {},
   "outputs": [],
   "source": [
    "[datetime.date(x) for x in df['date']]"
   ]
  },
  {
   "cell_type": "code",
   "execution_count": null,
   "metadata": {},
   "outputs": [],
   "source": [
    "df = pd.DataFrame(\n",
    "    {\n",
    "        'date': ['04/03/2022', '05/03/2022', '06/03/2022', None],\n",
    "        'patients': [16, 19, 11, 23],\n",
    "    }\n",
    ")\n",
    "\n",
    "df.dtypes\n",
    "df['date'] = pd.to_datetime(df['date'])\n",
    "df.info()\n",
    "df.head()"
   ]
  },
  {
   "cell_type": "code",
   "execution_count": null,
   "metadata": {},
   "outputs": [],
   "source": [
    "\n",
    "\n",
    "pd.notna(np.nan)"
   ]
  },
  {
   "cell_type": "code",
   "execution_count": null,
   "metadata": {},
   "outputs": [],
   "source": [
    "for i in df['date']:\n",
    "    print(i)\n",
    "    print(pd.notna(i))"
   ]
  },
  {
   "cell_type": "code",
   "execution_count": null,
   "metadata": {},
   "outputs": [],
   "source": [
    "i = None"
   ]
  },
  {
   "cell_type": "code",
   "execution_count": null,
   "metadata": {},
   "outputs": [],
   "source": [
    "print(type(i))\n",
    "print(i)"
   ]
  },
  {
   "cell_type": "code",
   "execution_count": null,
   "metadata": {},
   "outputs": [],
   "source": [
    "if not isinstance(i, date):\n",
    "    print('ewewe')"
   ]
  },
  {
   "cell_type": "code",
   "execution_count": null,
   "metadata": {},
   "outputs": [],
   "source": [
    "if not isinstance(i, date):\n",
    "    print('ewewe')"
   ]
  },
  {
   "cell_type": "code",
   "execution_count": null,
   "metadata": {},
   "outputs": [],
   "source": []
  },
  {
   "cell_type": "code",
   "execution_count": null,
   "metadata": {},
   "outputs": [],
   "source": []
  }
 ],
 "metadata": {
  "kernelspec": {
   "display_name": "pablocarreira-lastest",
   "language": "python",
   "name": "python3"
  },
  "language_info": {
   "codemirror_mode": {
    "name": "ipython",
    "version": 3
   },
   "file_extension": ".py",
   "mimetype": "text/x-python",
   "name": "python",
   "nbconvert_exporter": "python",
   "pygments_lexer": "ipython3",
   "version": "3.10.11"
  }
 },
 "nbformat": 4,
 "nbformat_minor": 2
}
