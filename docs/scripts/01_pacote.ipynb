{
 "cells": [
  {
   "cell_type": "markdown",
   "metadata": {
    "collapsed": false
   },
   "source": [
    "<br>\n",
    "\n",
    "\n",
    "\n",
    "# Como Usar?\n",
    "\n",
    "<a target=\"_blank\" href=\"https://colab.research.google.com/github/michelmetran/brazilian-holidays/blob/main/docs/scripts/01_pacote.ipynb\">\n",
    "  <img src=\"https://colab.research.google.com/assets/colab-badge.svg\" alt=\"Open In Colab\"/>\n",
    "</a>\n",
    "\n",
    "Existem diversos feriados no Brasil. Os feriados nacionais ocorrem para todos os estados, existem os feriados estaduais, que ocorrem em um único estado, além dos feriados municipais.\n",
    "\n",
    "Além disso, existe alguns dias que são feriados em uma empresa/instituição e outras não.\n",
    "\n",
    "Visando resolver isso, o presente pacote visa facilitar a criação de listas (e tabelas) contendo os feriados, partindo do princípio que há uma \"cesta\" de \"feriados disponíveis\" e o usuário pode obte-los, além de acrescentar outros feriados customizados."
   ]
  },
  {
   "cell_type": "code",
   "metadata": {},
   "source": [
    "#!pip3 install brazilian-holidays"
   ],
   "outputs": [],
   "execution_count": null
  },
  {
   "cell_type": "code",
   "metadata": {
    "collapsed": false
   },
   "source": [
    "import brazilian_holidays"
   ],
   "outputs": [],
   "execution_count": null
  },
  {
   "cell_type": "markdown",
   "metadata": {
    "collapsed": false
   },
   "source": [
    "<br>\n",
    "\n",
    "A maneira mais simples é obter todos os feriados para um determinado ano é instanciando o objeto *Holidays*.\n",
    "\n",
    "Uma vez instanciado, a \"cesta\" de feriados estará varia."
   ]
  },
  {
   "cell_type": "code",
   "metadata": {},
   "source": [
    "holidays = brazilian_holidays.Holidays(year=2023)\n",
    "holidays"
   ],
   "outputs": [],
   "execution_count": null
  },
  {
   "cell_type": "markdown",
   "metadata": {
    "collapsed": false
   },
   "source": [
    "<br>\n",
    "\n",
    "Podemos ver os feriados disponíveis no pacote."
   ]
  },
  {
   "cell_type": "code",
   "metadata": {
    "collapsed": false
   },
   "source": [
    "holidays.feriados_disponiveis"
   ],
   "outputs": [],
   "execution_count": null
  },
  {
   "cell_type": "markdown",
   "metadata": {
    "collapsed": false
   },
   "source": [
    "<br>\n",
    "\n",
    "----\n",
    "\n",
    "## Adiciona todos os *Feriados Disponíveis*\n",
    "\n",
    "E podemos adicionar todos os feriados disponíveis!\n",
    "Dessa forma os atributos serão definidos por padrão."
   ]
  },
  {
   "cell_type": "code",
   "metadata": {
    "collapsed": false
   },
   "source": [
    "holidays = brazilian_holidays.Holidays(year=2024)\n",
    "holidays.add_all()\n",
    "\n",
    "# Create Table\n",
    "df = holidays.create_table()\n",
    "\n",
    "# Results\n",
    "df.info()\n",
    "df.head(10)"
   ],
   "outputs": [],
   "execution_count": null
  },
  {
   "cell_type": "markdown",
   "metadata": {},
   "source": [
    "<br>\n",
    "\n",
    "-----\n",
    "\n",
    "## Removendo Feriados\n",
    "\n",
    "É possível remover feriados do objeto. Isso é especialmente util quando adicionamos todos e desejamos excluir alguns."
   ]
  },
  {
   "cell_type": "code",
   "metadata": {},
   "source": [
    "holidays = brazilian_holidays.Holidays(year=2024)\n",
    "holidays.add_all()\n",
    "\n",
    "# Remove\n",
    "holidays.remove('Domingo de Ramos')\n",
    "holidays.remove('Endoenças')\n",
    "holidays.remove('Dia da Consciência Negra')\n",
    "\n",
    "# Results\n",
    "holidays"
   ],
   "outputs": [],
   "execution_count": null
  },
  {
   "cell_type": "markdown",
   "metadata": {
    "collapsed": false
   },
   "source": [
    "<br>\n",
    "\n",
    "----\n",
    "\n",
    "## Adicionando alguns feriados\n",
    "\n",
    "É possível instanciar o objeto `Holidays` e adicionar apenas alguns feriados."
   ]
  },
  {
   "cell_type": "code",
   "metadata": {
    "collapsed": false
   },
   "source": [
    "holidays = brazilian_holidays.Holidays(year=2024)\n",
    "holidays.add(name='Páscoa')\n",
    "holidays.add(name='Tiradentes')\n",
    "holidays"
   ],
   "outputs": [],
   "execution_count": null
  },
  {
   "cell_type": "markdown",
   "metadata": {},
   "source": [
    "<br>\n",
    "\n",
    "\n",
    "-----\n",
    "\n",
    "## Adicionando Feriados Customizados\n",
    "\n",
    "\n",
    "Além dos feriados que estão disponíveis no objeto `holidays.feriados_disponiveis`, é possível adicionar feriados customizados, com a possbilidade de ajustar todos os atributos para cada um\n",
    "dos feriados.\n",
    "\n",
    "Dentre os atributos existentes estão:\n",
    "\n",
    "- `name`: Nome do Feriado;\n",
    "- `holiday`: Indica se é feriado ou apenas uma data que usualmente \"enforca-se\", porém não é feriado formalmente (\n",
    "  exemplo: véspera de natal e quarta-feira de cinzas);\n",
    "- `obs`: Campo para observações quaisquer;\n"
   ]
  },
  {
   "cell_type": "code",
   "metadata": {},
   "source": [
    "holidays = brazilian_holidays.Holidays(year=2024)\n",
    "holidays.add(name='Páscoa')\n",
    "holidays.add(name='Tiradentes')\n",
    "\n",
    "holidays.add_custom(\n",
    "    name='Imaculada Conceição',\n",
    "    month=12,\n",
    "    day=8,\n",
    "    holiday=True,\n",
    "    type='Fixo',\n",
    "    obs='Feriado Municipal de Piracicaba',\n",
    ")\n",
    "holidays.add_custom(\n",
    "    name='Revolução Constitucionalista',\n",
    "    month=7,\n",
    "    day=9,\n",
    "    holiday=True,\n",
    "    type='Fixo',\n",
    "    obs='Feriado Estadual',\n",
    ")\n",
    "holidays"
   ],
   "outputs": [],
   "execution_count": null
  },
  {
   "cell_type": "markdown",
   "metadata": {
    "collapsed": false
   },
   "source": [
    "<br>\n",
    "\n",
    "-----\n",
    "\n",
    "## Resultados\n",
    "\n",
    "Existem três maneiras de obter os resultados:\n",
    "1. Em formato de tabela `Dataframe` (do pandas).\n",
    "2. Em formato de lista, contendo apenas as datas, no formato `datetime`\n",
    "3. Em formato de lista, contendo apenas as datas, no formato `date`\n",
    "\n",
    "<br>\n",
    "\n",
    "Esses formatos de lista são especialmente uteis (e a principal motivação do pacote) para uso no Prophet"
   ]
  },
  {
   "cell_type": "code",
   "metadata": {},
   "source": [
    "from my_paths import data_path\n",
    "\n",
    "# Create Table\n",
    "df = holidays.create_table()\n",
    "\n",
    "# Results\n",
    "df.info()\n",
    "df.head(10)\n",
    "\n",
    "# Save\n",
    "df.to_csv(data_path / 'holidays.csv', index=False)"
   ],
   "outputs": [],
   "execution_count": null
  },
  {
   "cell_type": "markdown",
   "metadata": {},
   "source": [
    "<br>\n",
    "\n",
    "É possível obter os feriados em formato `datetime`, ideal para usar em conjunto com o [*dateutil*](./scripts/12_dateutil)."
   ]
  },
  {
   "cell_type": "code",
   "metadata": {},
   "source": [
    "holidays.create_list(tipo='datetime')"
   ],
   "outputs": [],
   "execution_count": null
  },
  {
   "cell_type": "markdown",
   "metadata": {},
   "source": [
    "<br>\n",
    "\n",
    "É possível obter os feriados em formato `date`, ideal para uso no [prophet](https://facebook.github.io/prophet/)."
   ]
  },
  {
   "cell_type": "code",
   "metadata": {},
   "source": [
    "holidays.create_list(tipo='date')"
   ],
   "outputs": [],
   "execution_count": null
  }
 ],
 "metadata": {
  "kernelspec": {
   "display_name": "pablocarreira-lastest",
   "language": "python",
   "name": "python3"
  },
  "language_info": {
   "codemirror_mode": {
    "name": "ipython",
    "version": 3
   },
   "file_extension": ".py",
   "mimetype": "text/x-python",
   "name": "python",
   "nbconvert_exporter": "python",
   "pygments_lexer": "ipython3",
   "version": "3.10.13"
  },
  "orig_nbformat": 4
 },
 "nbformat": 4,
 "nbformat_minor": 2
}
