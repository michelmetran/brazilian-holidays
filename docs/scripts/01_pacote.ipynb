{
 "cells": [
  {
   "cell_type": "markdown",
   "metadata": {
    "collapsed": false
   },
   "source": [
    "<br>\n",
    "\n",
    "# Como Usar?\n",
    "\n",
    "<a target=\"_blank\" href=\"https://colab.research.google.com/github/michelmetran/brazilian-holidays/blob/main/docs/scripts/01_pacote.ipynb\">\n",
    "  <img src=\"https://colab.research.google.com/assets/colab-badge.svg\" alt=\"Open In Colab\"/>\n",
    "</a>\n",
    "\n",
    "<br>\n",
    "\n",
    "Existem diversos feriados no Brasil. Os feriados nacionais ocorrem para todos os estados, existem os feriados estaduais, que ocorrem em um único estado, além dos feriados municipais.\n",
    "\n",
    "Além disso, existe alguns dias que são feriados em uma empresa/instituição e outras não.\n",
    "\n",
    "Visando resolver isso, o presente pacote visa facilitar a criação de listas (e tabelas) contendo os feriados, partindo do princípio que há uma \"cesta\" de \"feriados disponíveis\" e o usuário pode obte-los, além de acrescentar outros feriados customizados.\n"
   ]
  },
  {
   "cell_type": "code",
   "execution_count": 1,
   "metadata": {},
   "outputs": [],
   "source": [
    "#!pip3 install brazilian-holidays"
   ]
  },
  {
   "cell_type": "code",
   "execution_count": 2,
   "metadata": {
    "collapsed": false
   },
   "outputs": [],
   "source": [
    "import brazilian_holidays"
   ]
  },
  {
   "cell_type": "markdown",
   "metadata": {
    "collapsed": false
   },
   "source": [
    "<br>\n",
    "\n",
    "A maneira mais simples é obter todos os feriados para um determinado ano é instanciando o objeto *Holidays*.\n",
    "\n",
    "Uma vez instanciado, a \"cesta\" de feriados estará varia."
   ]
  },
  {
   "cell_type": "code",
   "execution_count": 3,
   "metadata": {},
   "outputs": [
    {
     "data": {
      "text/plain": [
       "Não foram adicionados feriados"
      ]
     },
     "execution_count": 3,
     "metadata": {},
     "output_type": "execute_result"
    }
   ],
   "source": [
    "holidays = brazilian_holidays.Holidays(year=2023)\n",
    "holidays"
   ]
  },
  {
   "cell_type": "markdown",
   "metadata": {
    "collapsed": false
   },
   "source": [
    "<br>\n",
    "\n",
    "Podemos ver os feriados disponíveis no pacote."
   ]
  },
  {
   "cell_type": "code",
   "execution_count": 4,
   "metadata": {
    "collapsed": false
   },
   "outputs": [
    {
     "data": {
      "text/plain": [
       "['Carnaval (seg)',\n",
       " 'Carnaval (ter)',\n",
       " 'Carnaval (qua)',\n",
       " 'Domingo de Ramos',\n",
       " 'Páscoa',\n",
       " 'Sexta-feira Santa',\n",
       " 'Endoenças',\n",
       " 'Corpus Christ',\n",
       " 'Confraternização Universal',\n",
       " 'Aniversário da Cidade de São Paulo',\n",
       " 'Tiradentes',\n",
       " 'Dia do Trabalho',\n",
       " 'Independência do Brasil',\n",
       " 'Dia de Nossa Senhora Aparecida',\n",
       " 'Dia de Finados',\n",
       " 'Proclamação da República',\n",
       " 'Dia da Consciência Negra',\n",
       " 'Véspera de Natal',\n",
       " 'Natal',\n",
       " 'Reveillon']"
      ]
     },
     "execution_count": 4,
     "metadata": {},
     "output_type": "execute_result"
    }
   ],
   "source": [
    "holidays.feriados_disponiveis"
   ]
  },
  {
   "cell_type": "markdown",
   "metadata": {
    "collapsed": false
   },
   "source": [
    "<br>\n",
    "\n",
    "----\n",
    "\n",
    "## Adiciona todos os *Feriados Disponíveis*\n",
    "\n",
    "E podemos adicionar todos os feriados disponíveis!\n",
    "Dessa forma os atributos serão definidos por padrão."
   ]
  },
  {
   "cell_type": "code",
   "execution_count": 5,
   "metadata": {
    "collapsed": false
   },
   "outputs": [
    {
     "name": "stdout",
     "output_type": "stream",
     "text": [
      "<class 'pandas.core.frame.DataFrame'>\n",
      "RangeIndex: 20 entries, 0 to 19\n",
      "Data columns (total 6 columns):\n",
      " #   Column      Non-Null Count  Dtype         \n",
      "---  ------      --------------  -----         \n",
      " 0   date        20 non-null     datetime64[ns]\n",
      " 1   dia_semana  20 non-null     object        \n",
      " 2   name        20 non-null     object        \n",
      " 3   holiday     20 non-null     bool          \n",
      " 4   type        20 non-null     object        \n",
      " 5   obs         20 non-null     object        \n",
      "dtypes: bool(1), datetime64[ns](1), object(4)\n",
      "memory usage: 952.0+ bytes\n"
     ]
    },
    {
     "data": {
      "text/html": [
       "<div>\n",
       "<style scoped>\n",
       "    .dataframe tbody tr th:only-of-type {\n",
       "        vertical-align: middle;\n",
       "    }\n",
       "\n",
       "    .dataframe tbody tr th {\n",
       "        vertical-align: top;\n",
       "    }\n",
       "\n",
       "    .dataframe thead th {\n",
       "        text-align: right;\n",
       "    }\n",
       "</style>\n",
       "<table border=\"1\" class=\"dataframe\">\n",
       "  <thead>\n",
       "    <tr style=\"text-align: right;\">\n",
       "      <th></th>\n",
       "      <th>date</th>\n",
       "      <th>dia_semana</th>\n",
       "      <th>name</th>\n",
       "      <th>holiday</th>\n",
       "      <th>type</th>\n",
       "      <th>obs</th>\n",
       "    </tr>\n",
       "  </thead>\n",
       "  <tbody>\n",
       "    <tr>\n",
       "      <th>0</th>\n",
       "      <td>2024-01-01</td>\n",
       "      <td>Segunda-feira</td>\n",
       "      <td>Confraternização Universal</td>\n",
       "      <td>True</td>\n",
       "      <td>Fixo</td>\n",
       "      <td></td>\n",
       "    </tr>\n",
       "    <tr>\n",
       "      <th>1</th>\n",
       "      <td>2024-01-25</td>\n",
       "      <td>Quinta-feira</td>\n",
       "      <td>Aniversário da Cidade de São Paulo</td>\n",
       "      <td>True</td>\n",
       "      <td>Fixo</td>\n",
       "      <td></td>\n",
       "    </tr>\n",
       "    <tr>\n",
       "      <th>2</th>\n",
       "      <td>2024-02-12</td>\n",
       "      <td>Segunda-feira</td>\n",
       "      <td>Carnaval (seg)</td>\n",
       "      <td>True</td>\n",
       "      <td>Móvel</td>\n",
       "      <td></td>\n",
       "    </tr>\n",
       "    <tr>\n",
       "      <th>3</th>\n",
       "      <td>2024-02-13</td>\n",
       "      <td>Terã§a-feira</td>\n",
       "      <td>Carnaval (ter)</td>\n",
       "      <td>True</td>\n",
       "      <td>Móvel</td>\n",
       "      <td></td>\n",
       "    </tr>\n",
       "    <tr>\n",
       "      <th>4</th>\n",
       "      <td>2024-02-14</td>\n",
       "      <td>Quarta-feira</td>\n",
       "      <td>Carnaval (qua)</td>\n",
       "      <td>True</td>\n",
       "      <td>Móvel</td>\n",
       "      <td></td>\n",
       "    </tr>\n",
       "    <tr>\n",
       "      <th>5</th>\n",
       "      <td>2024-03-24</td>\n",
       "      <td>Domingo</td>\n",
       "      <td>Domingo de Ramos</td>\n",
       "      <td>False</td>\n",
       "      <td>Móvel</td>\n",
       "      <td></td>\n",
       "    </tr>\n",
       "    <tr>\n",
       "      <th>6</th>\n",
       "      <td>2024-03-28</td>\n",
       "      <td>Quinta-feira</td>\n",
       "      <td>Endoenças</td>\n",
       "      <td>True</td>\n",
       "      <td>Móvel</td>\n",
       "      <td></td>\n",
       "    </tr>\n",
       "    <tr>\n",
       "      <th>7</th>\n",
       "      <td>2024-03-29</td>\n",
       "      <td>Sexta-feira</td>\n",
       "      <td>Sexta-feira Santa</td>\n",
       "      <td>True</td>\n",
       "      <td>Móvel</td>\n",
       "      <td></td>\n",
       "    </tr>\n",
       "    <tr>\n",
       "      <th>8</th>\n",
       "      <td>2024-03-31</td>\n",
       "      <td>Domingo</td>\n",
       "      <td>Páscoa</td>\n",
       "      <td>True</td>\n",
       "      <td>Móvel</td>\n",
       "      <td></td>\n",
       "    </tr>\n",
       "    <tr>\n",
       "      <th>9</th>\n",
       "      <td>2024-04-21</td>\n",
       "      <td>Domingo</td>\n",
       "      <td>Tiradentes</td>\n",
       "      <td>True</td>\n",
       "      <td>Fixo</td>\n",
       "      <td></td>\n",
       "    </tr>\n",
       "  </tbody>\n",
       "</table>\n",
       "</div>"
      ],
      "text/plain": [
       "        date     dia_semana                                name  holiday  \\\n",
       "0 2024-01-01  Segunda-feira          Confraternização Universal     True   \n",
       "1 2024-01-25   Quinta-feira  Aniversário da Cidade de São Paulo     True   \n",
       "2 2024-02-12  Segunda-feira                      Carnaval (seg)     True   \n",
       "3 2024-02-13   Terã§a-feira                      Carnaval (ter)     True   \n",
       "4 2024-02-14   Quarta-feira                      Carnaval (qua)     True   \n",
       "5 2024-03-24        Domingo                    Domingo de Ramos    False   \n",
       "6 2024-03-28   Quinta-feira                           Endoenças     True   \n",
       "7 2024-03-29    Sexta-feira                   Sexta-feira Santa     True   \n",
       "8 2024-03-31        Domingo                              Páscoa     True   \n",
       "9 2024-04-21        Domingo                          Tiradentes     True   \n",
       "\n",
       "    type obs  \n",
       "0   Fixo      \n",
       "1   Fixo      \n",
       "2  Móvel      \n",
       "3  Móvel      \n",
       "4  Móvel      \n",
       "5  Móvel      \n",
       "6  Móvel      \n",
       "7  Móvel      \n",
       "8  Móvel      \n",
       "9   Fixo      "
      ]
     },
     "execution_count": 5,
     "metadata": {},
     "output_type": "execute_result"
    }
   ],
   "source": [
    "holidays = brazilian_holidays.Holidays(year=2024)\n",
    "holidays.add_all()\n",
    "\n",
    "# Create Table\n",
    "df = holidays.create_table()\n",
    "\n",
    "# Results\n",
    "df.info()\n",
    "df.head(10)"
   ]
  },
  {
   "cell_type": "markdown",
   "metadata": {},
   "source": [
    "<br>\n",
    "\n",
    "-----\n",
    "\n",
    "## Removendo Feriados\n",
    "\n",
    "É possível remover feriados do objeto. Isso é especialmente util quando adicionamos todos e desejamos excluir alguns."
   ]
  },
  {
   "cell_type": "code",
   "execution_count": 6,
   "metadata": {},
   "outputs": [
    {
     "data": {
      "text/plain": [
       "Existe(m) 17 feriado(s) listado(s):\n",
       "Confraternização Universal\n",
       "Aniversário da Cidade de São Paulo\n",
       "Carnaval (seg)\n",
       "Carnaval (ter)\n",
       "Carnaval (qua)\n",
       "Sexta-feira Santa\n",
       "Páscoa\n",
       "Tiradentes\n",
       "Dia do Trabalho\n",
       "Corpus Christ\n",
       "Independência do Brasil\n",
       "Dia de Nossa Senhora Aparecida\n",
       "Dia de Finados\n",
       "Proclamação da República\n",
       "Véspera de Natal\n",
       "Natal\n",
       "Reveillon"
      ]
     },
     "execution_count": 6,
     "metadata": {},
     "output_type": "execute_result"
    }
   ],
   "source": [
    "holidays = brazilian_holidays.Holidays(year=2024)\n",
    "holidays.add_all()\n",
    "\n",
    "# Remove\n",
    "holidays.remove('Domingo de Ramos')\n",
    "holidays.remove('Endoenças')\n",
    "holidays.remove('Dia da Consciência Negra')\n",
    "\n",
    "# Results\n",
    "holidays"
   ]
  },
  {
   "cell_type": "markdown",
   "metadata": {
    "collapsed": false
   },
   "source": [
    "<br>\n",
    "\n",
    "----\n",
    "\n",
    "## Adicionando alguns feriados\n",
    "\n",
    "É possível instanciar o objeto `Holidays` e adicionar apenas alguns feriados."
   ]
  },
  {
   "cell_type": "code",
   "execution_count": 7,
   "metadata": {
    "collapsed": false
   },
   "outputs": [
    {
     "data": {
      "text/plain": [
       "Existe(m) 2 feriado(s) listado(s):\n",
       "Páscoa\n",
       "Tiradentes"
      ]
     },
     "execution_count": 7,
     "metadata": {},
     "output_type": "execute_result"
    }
   ],
   "source": [
    "holidays = brazilian_holidays.Holidays(year=2024)\n",
    "holidays.add(name='Páscoa')\n",
    "holidays.add(name='Tiradentes')\n",
    "holidays"
   ]
  },
  {
   "cell_type": "markdown",
   "metadata": {},
   "source": [
    "<br>\n",
    "\n",
    "\n",
    "-----\n",
    "\n",
    "## Adicionando Feriados Customizados\n",
    "\n",
    "\n",
    "Além dos feriados que estão disponíveis no objeto `holidays.feriados_disponiveis`, é possível adicionar feriados customizados, com a possbilidade de ajustar todos os atributos para cada um\n",
    "dos feriados.\n",
    "\n",
    "Dentre os atributos existentes estão:\n",
    "\n",
    "- `name`: Nome do Feriado;\n",
    "- `holiday`: Indica se é feriado ou apenas uma data que usualmente \"enforca-se\", porém não é feriado formalmente (\n",
    "  exemplo: véspera de natal e quarta-feira de cinzas);\n",
    "- `obs`: Campo para observações quaisquer;\n"
   ]
  },
  {
   "cell_type": "code",
   "execution_count": 8,
   "metadata": {},
   "outputs": [
    {
     "data": {
      "text/plain": [
       "Existe(m) 4 feriado(s) listado(s):\n",
       "Páscoa\n",
       "Tiradentes\n",
       "Revolução Constitucionalista\n",
       "Imaculada Conceição"
      ]
     },
     "execution_count": 8,
     "metadata": {},
     "output_type": "execute_result"
    }
   ],
   "source": [
    "holidays = brazilian_holidays.Holidays(year=2024)\n",
    "holidays.add(name='Páscoa')\n",
    "holidays.add(name='Tiradentes')\n",
    "\n",
    "holidays.add_custom(\n",
    "    name='Imaculada Conceição',\n",
    "    month=12,\n",
    "    day=8,\n",
    "    holiday=True,\n",
    "    type='Fixo',\n",
    "    obs='Feriado Municipal de Piracicaba',\n",
    ")\n",
    "holidays.add_custom(\n",
    "    name='Revolução Constitucionalista',\n",
    "    month=7,\n",
    "    day=9,\n",
    "    holiday=True,\n",
    "    type='Fixo',\n",
    "    obs='Feriado Estadual',\n",
    ")\n",
    "holidays"
   ]
  },
  {
   "cell_type": "markdown",
   "metadata": {
    "collapsed": false
   },
   "source": [
    "<br>\n",
    "\n",
    "-----\n",
    "\n",
    "## Resultados\n",
    "\n",
    "Existem três maneiras de obter os resultados:\n",
    "1. Em formato de tabela `Dataframe` (do pandas).\n",
    "2. Em formato de lista, contendo apenas as datas, no formato `datetime`\n",
    "3. Em formato de lista, contendo apenas as datas, no formato `date`\n",
    "\n",
    "<br>\n",
    "\n",
    "Esses formatos de lista são especialmente uteis (e a principal motivação do pacote) para uso no Prophet"
   ]
  },
  {
   "cell_type": "code",
   "execution_count": 9,
   "metadata": {},
   "outputs": [
    {
     "name": "stdout",
     "output_type": "stream",
     "text": [
      "<class 'pandas.core.frame.DataFrame'>\n",
      "RangeIndex: 4 entries, 0 to 3\n",
      "Data columns (total 6 columns):\n",
      " #   Column      Non-Null Count  Dtype         \n",
      "---  ------      --------------  -----         \n",
      " 0   date        4 non-null      datetime64[ns]\n",
      " 1   dia_semana  4 non-null      object        \n",
      " 2   name        4 non-null      object        \n",
      " 3   holiday     4 non-null      bool          \n",
      " 4   type        4 non-null      object        \n",
      " 5   obs         4 non-null      object        \n",
      "dtypes: bool(1), datetime64[ns](1), object(4)\n",
      "memory usage: 296.0+ bytes\n"
     ]
    }
   ],
   "source": [
    "from my_paths import data_path\n",
    "\n",
    "# Create Table\n",
    "df = holidays.create_table()\n",
    "\n",
    "# Results\n",
    "df.info()\n",
    "df.head(10)\n",
    "\n",
    "# Save\n",
    "df.to_csv(data_path / 'holidays.csv', index=False)"
   ]
  },
  {
   "cell_type": "markdown",
   "metadata": {},
   "source": [
    "<br>\n",
    "\n",
    "É possível obter os feriados em formato `datetime`, ideal para usar em conjunto com o [*dateutil*](./scripts/12_dateutil)."
   ]
  },
  {
   "cell_type": "code",
   "execution_count": 10,
   "metadata": {},
   "outputs": [
    {
     "data": {
      "text/plain": [
       "[datetime.datetime(2024, 3, 31, 0, 0),\n",
       " datetime.datetime(2024, 4, 21, 0, 0),\n",
       " datetime.datetime(2024, 7, 9, 0, 0),\n",
       " datetime.datetime(2024, 12, 8, 0, 0)]"
      ]
     },
     "execution_count": 10,
     "metadata": {},
     "output_type": "execute_result"
    }
   ],
   "source": [
    "holidays.create_list(tipo='datetime')"
   ]
  },
  {
   "cell_type": "markdown",
   "metadata": {},
   "source": [
    "<br>\n",
    "\n",
    "É possível obter os feriados em formato `date`, ideal para uso no [prophet](https://facebook.github.io/prophet/)."
   ]
  },
  {
   "cell_type": "code",
   "execution_count": 11,
   "metadata": {},
   "outputs": [
    {
     "data": {
      "text/plain": [
       "[datetime.date(2024, 3, 31),\n",
       " datetime.date(2024, 4, 21),\n",
       " datetime.date(2024, 7, 9),\n",
       " datetime.date(2024, 12, 8)]"
      ]
     },
     "execution_count": 11,
     "metadata": {},
     "output_type": "execute_result"
    }
   ],
   "source": [
    "holidays.create_list(tipo='date')"
   ]
  }
 ],
 "metadata": {
  "kernelspec": {
   "display_name": "brazilian-holidays",
   "language": "python",
   "name": "python3"
  },
  "language_info": {
   "codemirror_mode": {
    "name": "ipython",
    "version": 3
   },
   "file_extension": ".py",
   "mimetype": "text/x-python",
   "name": "python",
   "nbconvert_exporter": "python",
   "pygments_lexer": "ipython3",
   "version": "3.11.12"
  },
  "orig_nbformat": 4
 },
 "nbformat": 4,
 "nbformat_minor": 2
}
