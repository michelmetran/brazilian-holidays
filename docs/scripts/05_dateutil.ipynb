{
 "cells": [
  {
   "attachments": {},
   "cell_type": "markdown",
   "metadata": {},
   "source": [
    "<br>\n",
    "\n",
    "# Dateutil\n",
    "\n",
    "O [dateutil](https://dateutil.readthedocs.io/) é um pacote que _\"fornece extensões poderosas para o módulo datetime padrão, disponível em Python\"_. Ele aborda questões muito mais gerais, para lidar com datas no python, e não é apenas um módulo para tratar de feriados.\n",
    "\n",
    "No _site_ [Labix.org](http://labix.org/python-dateutil#head-470fa22b2db72000d7abe698a5783a46b0731b57), tem vários exemplos interessante sobre o uso de _Recurrence Rules_, uma função que pode ser usada para feriados.\n"
   ]
  },
  {
   "cell_type": "code",
   "execution_count": null,
   "metadata": {},
   "outputs": [],
   "source": [
    "from datetime import date, datetime, timedelta\n",
    "\n",
    "from dateutil import parser, rrule\n",
    "\n",
    "import brazilian_holidays"
   ]
  },
  {
   "attachments": {},
   "cell_type": "markdown",
   "metadata": {},
   "source": [
    "<br>\n",
    "\n",
    "---\n",
    "\n",
    "## Recurrence Rules\n",
    "\n",
    "O módulo `rrules` permite criar uma série de regras de horários recorrentes. Abaixo um exemlo de uma regra.\n"
   ]
  },
  {
   "cell_type": "code",
   "execution_count": null,
   "metadata": {},
   "outputs": [],
   "source": [
    "list(\n",
    "    rrule.rrule(\n",
    "        rrule.DAILY,\n",
    "        byweekday=[rrule.MO, rrule.TU, rrule.WE, rrule.TH, rrule.FR],\n",
    "        count=10,\n",
    "        dtstart=parser.parse('19970902T090000'),\n",
    "    )\n",
    ")"
   ]
  },
  {
   "cell_type": "markdown",
   "metadata": {},
   "source": [
    "Exemplo com regras de minutos."
   ]
  },
  {
   "cell_type": "code",
   "execution_count": null,
   "metadata": {},
   "outputs": [],
   "source": [
    "list(\n",
    "    rrule.rrule(\n",
    "        rrule.MINUTELY,\n",
    "        byhour=range(9, 17),\n",
    "        byminute=(0, 30),\n",
    "        # interval=30,\n",
    "        byweekday=[rrule.MO, rrule.TU, rrule.WE, rrule.TH, rrule.FR],\n",
    "        count=20,\n",
    "        dtstart=date.today(),\n",
    "    )\n",
    ")"
   ]
  },
  {
   "cell_type": "markdown",
   "metadata": {},
   "source": [
    "<br>\n",
    "\n",
    "---\n",
    "\n",
    "## Feriados nos EUA\n",
    "\n",
    "Encontrei no repositório [adamJLev/holidays.py](https://gist.github.com/adamJLev/7535869), uma função que cria os feriados dos Estados Unidos utilizando `rrules`."
   ]
  },
  {
   "cell_type": "code",
   "execution_count": null,
   "metadata": {},
   "outputs": [],
   "source": [
    "def get_schedule_holidays_rrules():\n",
    "    return [\n",
    "        # New Years\n",
    "        rrule.rrule(\n",
    "            rrule.YEARLY, dtstart=datetime.now(), bymonth=1, bymonthday=1\n",
    "        ),\n",
    "        # Memorial\n",
    "        rrule.rrule(\n",
    "            rrule.YEARLY,\n",
    "            dtstart=datetime.now(),\n",
    "            bymonth=5,\n",
    "            byweekday=rrule.MO(-1),\n",
    "        ),\n",
    "        # Independence\n",
    "        rrule.rrule(\n",
    "            rrule.YEARLY, dtstart=datetime.now(), bymonth=7, bymonthday=4\n",
    "        ),\n",
    "        # Thanksgiving\n",
    "        rrule.rrule(\n",
    "            rrule.YEARLY,\n",
    "            dtstart=datetime.now(),\n",
    "            bymonth=11,\n",
    "            byweekday=rrule.TH(4),\n",
    "        ),\n",
    "        # Christmas\n",
    "        rrule.rrule(\n",
    "            rrule.YEARLY, dtstart=datetime.now(), bymonth=12, bymonthday=25\n",
    "        ),\n",
    "    ]"
   ]
  },
  {
   "cell_type": "code",
   "execution_count": null,
   "metadata": {},
   "outputs": [],
   "source": [
    "get_schedule_holidays_rrules()"
   ]
  },
  {
   "cell_type": "markdown",
   "metadata": {},
   "source": [
    "<br>\n",
    "\n",
    "Pensava que poderia utilizar isso também para feriados brasileiros, porém ao me deparar com feriados de data móvel (páscoa e carnaval, por exemplo), desisti de utilizar o `rrules` para feriados. De qualquer forma, o pacote pode agregar muito nas análises de séries temporais, pela exclusão de feriados de intervalos sub-diários."
   ]
  },
  {
   "attachments": {},
   "cell_type": "markdown",
   "metadata": {},
   "source": [
    "<br>\n",
    "\n",
    "---\n",
    "\n",
    "## Exclusão de Feriados\n",
    "\n",
    "No artigo [StackOverFlow: **Datetime Python - Next Business Day**](https://stackoverflow.com/questions/9187215/datetime-python-next-business-day) descobri que dá pra definir feriados!!! E usar isso na biblioteca _dateutil_ para excluir das regras!!!\n"
   ]
  },
  {
   "cell_type": "markdown",
   "metadata": {},
   "source": [
    "\n",
    "### Excluindo datas das `rrule`\n",
    "\n",
    "Defini regras do `rrule` que eu desejaria obter intervalores de 30 minutos, entre as 9h e as 17h, e desejaria excluir algumas datas (ou \"feriados\") específicas."
   ]
  },
  {
   "cell_type": "code",
   "execution_count": null,
   "metadata": {},
   "outputs": [],
   "source": [
    "# Feriados\n",
    "holidays = [\n",
    "    datetime(2024, 3, 26, 11, 0, 0),\n",
    "    datetime(2024, 3, 26, 11, 30, 0),\n",
    "]\n",
    "\n",
    "# Create a rule to recur every weekday starting today\n",
    "r = rrule.rrule(\n",
    "    rrule.MINUTELY,\n",
    "    byhour=range(9, 17),\n",
    "    byminute=(0, 30),\n",
    "    byweekday=[rrule.MO, rrule.TU, rrule.WE, rrule.TH, rrule.FR],\n",
    "    count=40,\n",
    "    #dtstart=date.today(),\n",
    "    dtstart=date(2024, 3, 24),\n",
    ")\n",
    "\n",
    "# Create a rruleset\n",
    "rs = rrule.rruleset()\n",
    "\n",
    "# Attach our rrule to it\n",
    "rs.rrule(r)\n",
    "\n",
    "# Add holidays as exclusion days\n",
    "for holiday in holidays:\n",
    "    rs.exdate(holiday)\n",
    "\n",
    "# Results\n",
    "list_intervals = list(rs)\n",
    "list_intervals"
   ]
  },
  {
   "cell_type": "markdown",
   "metadata": {},
   "source": [
    "<br>\n",
    "\n",
    "Logo pensei: *posso usar o `brazilian-holidays` para criar uma lista de feriados!!!*\n",
    "\n",
    "Contudo, infelizmente só dá certo se tiver também o horário definido."
   ]
  },
  {
   "cell_type": "markdown",
   "metadata": {},
   "source": [
    "<br>\n",
    "\n",
    "----\n",
    "\n",
    "### Excluindo Feriados Brasileiros de Séries Temporais\n",
    "\n",
    "Pensava que, caso eu criasse uma lista de feriados, em formato `datetime`, eu conseguiria excluir os feriados de uma regra definida com o módulo `dateutil.rrule`.\n",
    "\n",
    "Para isso criei a lista de feriados, utilizando o `brazilian_holidays`.\n",
    "\n",
    "\n",
    "\n",
    "\n",
    "Pensei em ooutra coisa"
   ]
  },
  {
   "cell_type": "code",
   "execution_count": null,
   "metadata": {},
   "outputs": [],
   "source": [
    "holidays = brazilian_holidays.Holidays(year=2024)\n",
    "holidays.add_all()\n",
    "\n",
    "holidays = holidays.create_list(tipo='date')"
   ]
  },
  {
   "cell_type": "markdown",
   "metadata": {},
   "source": [
    "<br>\n",
    "\n",
    "Inicialmente criamos todos os horários possíveis com o intervalo pretendido, para todos os feriados. Essa será a nossa tabela de exclusão."
   ]
  },
  {
   "cell_type": "code",
   "execution_count": null,
   "metadata": {},
   "outputs": [],
   "source": [
    "list_holidays_hours = []\n",
    "for holiday in holidays:\n",
    "    # Create a rule to recur every weekday starting today\n",
    "    r = rrule.rrule(\n",
    "        rrule.MINUTELY,\n",
    "        byhour=range(9, 17),\n",
    "        byminute=(0, 30),\n",
    "        byweekday=[rrule.MO, rrule.TU, rrule.WE, rrule.TH, rrule.FR],\n",
    "        dtstart=holiday,\n",
    "        until=holiday + timedelta(days=1) # Tomorrow,\n",
    "    )\n",
    "\n",
    "    # Create a rruleset\n",
    "    rs = rrule.rruleset()\n",
    "\n",
    "    # Attach our rrule to it\n",
    "    rs.rrule(r)\n",
    "\n",
    "    # Results\n",
    "    list_intervals = list(rs)\n",
    "    list_holidays_hours.extend(list_intervals)\n",
    "    \n",
    "# Results\n",
    "list_holidays_hours[:5]"
   ]
  },
  {
   "cell_type": "markdown",
   "metadata": {},
   "source": [
    "<br>\n",
    "\n",
    "Após isso recriados a regra, com a exclusão dos feridos."
   ]
  },
  {
   "cell_type": "code",
   "execution_count": null,
   "metadata": {},
   "outputs": [],
   "source": [
    "# Create a rule to recur every weekday starting today\n",
    "r = rrule.rrule(\n",
    "    rrule.MINUTELY,\n",
    "    byhour=range(9, 17),\n",
    "    byminute=(0, 30),\n",
    "    byweekday=[rrule.MO, rrule.TU, rrule.WE, rrule.TH, rrule.FR],\n",
    "    #count=50,    \n",
    "    dtstart=date(2024, 3, 27),\n",
    "    until=date(2024, 4, 2),\n",
    ")\n",
    "\n",
    "# Create a rruleset\n",
    "rs = rrule.rruleset()\n",
    "\n",
    "# Attach our rrule to it\n",
    "rs.rrule(r)\n",
    "\n",
    "# Add holidays as exclusion days\n",
    "for holiday in list_holidays_hours:\n",
    "    rs.exdate(holiday)\n",
    "\n",
    "# Results\n",
    "list_intervals = list(rs)\n",
    "list_intervals"
   ]
  },
  {
   "cell_type": "markdown",
   "metadata": {},
   "source": [
    "<br>\n",
    "\n",
    "Note que o dia 28 e 29 de março de 2024 foram removidos, visto que são feriado definidos no `brazilian-holidays`."
   ]
  },
  {
   "cell_type": "markdown",
   "metadata": {},
   "source": []
  }
 ],
 "metadata": {
  "kernelspec": {
   "display_name": "cash-lastest",
   "language": "python",
   "name": "python3"
  },
  "language_info": {
   "codemirror_mode": {
    "name": "ipython",
    "version": 3
   },
   "file_extension": ".py",
   "mimetype": "text/x-python",
   "name": "python",
   "nbconvert_exporter": "python",
   "pygments_lexer": "ipython3",
   "version": "3.10.13"
  }
 },
 "nbformat": 4,
 "nbformat_minor": 2
}
