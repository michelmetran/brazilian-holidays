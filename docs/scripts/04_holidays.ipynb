{
 "cells": [
  {
   "attachments": {},
   "cell_type": "markdown",
   "metadata": {},
   "source": [
    "<br>\n",
    "\n",
    "# Holidays\n",
    "\n",
    "<a target=\"_blank\" href=\"https://colab.research.google.com/github/michelmetran/brazilian-holidays/blob/main/docs/scripts/04_holidays.ipynb\">\n",
    "  <img src=\"https://colab.research.google.com/assets/colab-badge.svg\" alt=\"Open In Colab\"/>\n",
    "</a>\n",
    "\n",
    "<br>\n",
    "\n",
    "Encontrei o pacote **_Holidays_** que, a princípio, pareceu interessante. Posterirmente observei algumas funções que eu desejava e achei que seria mais fácil fazer um pacote, do que contribuir com o _Holidays_.\n",
    "\n",
    "Para instalar, basta\n",
    "\n",
    "```shell\n",
    "pip3 install holidays\n",
    "```\n",
    "\n",
    "<br>\n",
    "\n",
    "Conheça mais do pacote.\n",
    "\n",
    "- [PyPI](https://pypi.org/project/holidays/)\n",
    "- [GitHub](https://github.com/dr-prodigy/python-holidays)\n",
    "- [Docs](https://python-holidays.readthedocs.io/en/latest/?badge=latest)\n"
   ]
  },
  {
   "cell_type": "code",
   "execution_count": 1,
   "metadata": {},
   "outputs": [],
   "source": [
    "#!pip3 install holidays"
   ]
  },
  {
   "cell_type": "code",
   "execution_count": 2,
   "metadata": {},
   "outputs": [],
   "source": [
    "import holidays"
   ]
  },
  {
   "cell_type": "markdown",
   "metadata": {},
   "source": [
    "<br>\n",
    "\n",
    "----\n",
    "\n",
    "\n",
    "## Feriados Americanos\n",
    "\n",
    "Talvez para os feriados americanos, o pacote seja uma boa opção!"
   ]
  },
  {
   "cell_type": "code",
   "execution_count": 3,
   "metadata": {},
   "outputs": [
    {
     "name": "stdout",
     "output_type": "stream",
     "text": [
      "2014-01-01 New Year's Day\n",
      "2014-01-20 Martin Luther King Jr. Day\n",
      "2014-02-15 Susan B. Anthony Day\n",
      "2014-02-17 Presidents' Day\n",
      "2014-03-31 Cesar Chavez Day\n",
      "2014-05-26 Memorial Day\n",
      "2014-07-04 Independence Day\n",
      "2014-09-01 Labor Day\n",
      "2014-11-11 Veterans Day\n",
      "2014-11-27 Thanksgiving Day\n",
      "2014-11-28 Day After Thanksgiving\n",
      "2014-12-25 Christmas Day\n"
     ]
    }
   ],
   "source": [
    "for date, name in sorted(holidays.US(subdiv='CA', years=2014).items()):\n",
    "    print(date, name)"
   ]
  },
  {
   "cell_type": "markdown",
   "metadata": {},
   "source": [
    "<br>\n",
    "\n",
    "----\n",
    "\n",
    "## Feriados Brasileiros\n",
    "\n",
    "Contudo, para feriados brasileiros, notei a ausência de diversos feriados."
   ]
  },
  {
   "cell_type": "code",
   "execution_count": 4,
   "metadata": {},
   "outputs": [
    {
     "name": "stdout",
     "output_type": "stream",
     "text": [
      "2024-01-01 Confraternização Universal\n",
      "2024-03-29 Sexta-feira Santa\n",
      "2024-04-21 Tiradentes\n",
      "2024-05-01 Dia do Trabalhador\n",
      "2024-07-09 Revolução Constitucionalista\n",
      "2024-09-07 Independência do Brasil\n",
      "2024-10-12 Nossa Senhora Aparecida\n",
      "2024-11-02 Finados\n",
      "2024-11-15 Proclamação da República\n",
      "2024-11-20 Dia Nacional de Zumbi e da Consciência Negra\n",
      "2024-12-25 Natal\n"
     ]
    }
   ],
   "source": [
    "for date, name in sorted(holidays.BR(subdiv='SP', years=2024).items()):\n",
    "    print(date, name)"
   ]
  }
 ],
 "metadata": {
  "kernelspec": {
   "display_name": "brazilian-holidays",
   "language": "python",
   "name": "python3"
  },
  "language_info": {
   "codemirror_mode": {
    "name": "ipython",
    "version": 3
   },
   "file_extension": ".py",
   "mimetype": "text/x-python",
   "name": "python",
   "nbconvert_exporter": "python",
   "pygments_lexer": "ipython3",
   "version": "3.11.12"
  },
  "orig_nbformat": 4
 },
 "nbformat": 4,
 "nbformat_minor": 2
}
