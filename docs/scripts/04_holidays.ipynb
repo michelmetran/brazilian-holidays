{
 "cells": [
  {
   "attachments": {},
   "cell_type": "markdown",
   "metadata": {},
   "source": [
    "<br>\n",
    "\n",
    "# Holidays\n",
    "\n",
    "<a target=\"_blank\" href=\"https://colab.research.google.com/github/michelmetran/brazilian-holidays/blob/main/docs/scripts/04_holidays.ipynb\">\n",
    "  <img src=\"https://colab.research.google.com/assets/colab-badge.svg\" alt=\"Open In Colab\"/>\n",
    "</a>\n",
    "\n",
    "Encontrei o pacote **_Holidays_** que, a princípio, pareceu interessante. Posterirmente observei algumas funções que eu desejava e achei que seria mais fácil fazer um pacote, do que contribuir com o *Holidays*.\n",
    "\n",
    "Para instalar, basta\n",
    "\n",
    "```shell\n",
    "pip3 install holidays\n",
    "```\n",
    "\n",
    "<br>\n",
    "\n",
    "Conheça mais do pacote.\n",
    "\n",
    "- [PyPI](https://pypi.org/project/holidays/)\n",
    "- [GitHub](https://github.com/dr-prodigy/python-holidays)\n",
    "- [Docs](https://python-holidays.readthedocs.io/en/latest/?badge=latest)"
   ]
  },
  {
   "cell_type": "code",
   "execution_count": null,
   "metadata": {},
   "outputs": [],
   "source": [
    "import holidays"
   ]
  },
  {
   "cell_type": "markdown",
   "metadata": {},
   "source": [
    "<br>\n",
    "\n",
    "----\n",
    "\n",
    "\n",
    "## Feriados Americanos\n",
    "\n",
    "Talvez para os feriados americanos, o pacote seja uma boa opção!"
   ]
  },
  {
   "cell_type": "code",
   "execution_count": null,
   "metadata": {},
   "outputs": [],
   "source": [
    "for date, name in sorted(holidays.US(subdiv='CA', years=2014).items()):\n",
    "    print(date, name)"
   ]
  },
  {
   "cell_type": "markdown",
   "metadata": {},
   "source": [
    "<br>\n",
    "\n",
    "----\n",
    "\n",
    "## Feriados Brasileiros\n",
    "\n",
    "Contudo, para feriados brasileiros, notei a ausência de diversos feriados."
   ]
  },
  {
   "cell_type": "code",
   "execution_count": null,
   "metadata": {},
   "outputs": [],
   "source": [
    "for date, name in sorted(holidays.BR(subdiv='SP', years=2024).items()):\n",
    "    print(date, name)"
   ]
  }
 ],
 "metadata": {
  "kernelspec": {
   "display_name": "pablocarreira-lastest",
   "language": "python",
   "name": "python3"
  },
  "language_info": {
   "codemirror_mode": {
    "name": "ipython",
    "version": 3
   },
   "file_extension": ".py",
   "mimetype": "text/x-python",
   "name": "python",
   "nbconvert_exporter": "python",
   "pygments_lexer": "ipython3",
   "version": "3.10.13"
  }
 },
 "nbformat": 4,
 "nbformat_minor": 2
}
