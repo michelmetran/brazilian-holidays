{
 "cells": [
  {
   "cell_type": "markdown",
   "metadata": {},
   "source": [
    "<br>\n",
    "\n",
    "# Meus Feriados\n",
    "\n",
    "<a target=\"_blank\" href=\"https://colab.research.google.com/github/michelmetran/brazilian-holidays/blob/main/docs/scripts/02_meus_feriados.ipynb\">\n",
    "  <img src=\"https://colab.research.google.com/assets/colab-badge.svg\" alt=\"Open In Colab\"/>\n",
    "</a>\n",
    "\n",
    "<br>\n",
    "\n",
    "Esses são os feriados que eu uso, na minha cidade, em análises de séries temporais etc.\n"
   ]
  },
  {
   "cell_type": "code",
   "execution_count": 1,
   "metadata": {},
   "outputs": [],
   "source": [
    "#!pip3 install brazilian-holidays"
   ]
  },
  {
   "cell_type": "code",
   "execution_count": 2,
   "metadata": {},
   "outputs": [],
   "source": [
    "from my_paths import data_path\n",
    "\n",
    "import brazilian_holidays"
   ]
  },
  {
   "cell_type": "code",
   "execution_count": 6,
   "metadata": {},
   "outputs": [
    {
     "data": {
      "text/plain": [
       "Existe(m) 25 feriado(s) listado(s):\n",
       "Confraternização Universal\n",
       "Aniversário da Cidade de São Paulo\n",
       "Carnaval (seg)\n",
       "Carnaval (ter)\n",
       "Carnaval (qua)\n",
       "Domingo de Ramos\n",
       "Endoenças\n",
       "Sexta-feira Santa\n",
       "Páscoa\n",
       "Tiradentes\n",
       "Dia do Trabalho\n",
       "Santo Antonio\n",
       "Corpus Christ\n",
       "Revolução Constitucionalista\n",
       "Independência do Brasil\n",
       "Dia de Nossa Senhora Aparecida\n",
       "Dia do Servidor Público\n",
       "Dia de Finados\n",
       "Proclamação da República\n",
       "Dia da Consciência Negra\n",
       "Zumbi dos Palmares\n",
       "Imaculada Conceição\n",
       "Véspera de Natal\n",
       "Natal\n",
       "Reveillon"
      ]
     },
     "execution_count": 6,
     "metadata": {},
     "output_type": "execute_result"
    }
   ],
   "source": [
    "holidays = brazilian_holidays.Holidays(year=2025)\n",
    "\n",
    "# Add All\n",
    "holidays.add_all()\n",
    "\n",
    "# Add Customs\n",
    "holidays.add_custom(\n",
    "    name='Santo Antonio',\n",
    "    month=6,\n",
    "    day=13,\n",
    "    holiday=True,\n",
    "    type='Fixo',\n",
    "    obs='Feriado Municipal de Piracicaba',\n",
    ")\n",
    "holidays.add_custom(\n",
    "    name='Zumbi dos Palmares',\n",
    "    month=11,\n",
    "    day=20,\n",
    "    holiday=True,\n",
    "    type='Fixo',\n",
    "    obs='Feriado Municipal de Piracicaba',\n",
    ")\n",
    "holidays.add_custom(\n",
    "    name='Imaculada Conceição',\n",
    "    month=12,\n",
    "    day=8,\n",
    "    holiday=True,\n",
    "    type='Fixo',\n",
    "    obs='Feriado Municipal de Piracicaba',\n",
    ")\n",
    "holidays.add_custom(\n",
    "    name='Revolução Constitucionalista',\n",
    "    month=7,\n",
    "    day=9,\n",
    "    holiday=True,\n",
    "    type='Fixo',\n",
    "    obs='Feriado Estadual',\n",
    ")\n",
    "holidays.add_custom(\n",
    "    name='Dia do Servidor Público',\n",
    "    month=10,\n",
    "    day=28,\n",
    "    holiday=True,\n",
    "    type='Fixo',\n",
    ")\n",
    "\n",
    "# Results\n",
    "holidays"
   ]
  },
  {
   "cell_type": "markdown",
   "metadata": {},
   "source": [
    "<br>\n",
    "\n",
    "Por fim, crio uma lista."
   ]
  },
  {
   "cell_type": "code",
   "execution_count": 7,
   "metadata": {},
   "outputs": [
    {
     "data": {
      "text/plain": [
       "[datetime.datetime(2025, 1, 1, 0, 0),\n",
       " datetime.datetime(2025, 1, 25, 0, 0),\n",
       " datetime.datetime(2025, 3, 3, 0, 0),\n",
       " datetime.datetime(2025, 3, 4, 0, 0),\n",
       " datetime.datetime(2025, 3, 5, 0, 0),\n",
       " datetime.datetime(2025, 4, 13, 0, 0),\n",
       " datetime.datetime(2025, 4, 17, 0, 0),\n",
       " datetime.datetime(2025, 4, 18, 0, 0),\n",
       " datetime.datetime(2025, 4, 20, 0, 0),\n",
       " datetime.datetime(2025, 4, 21, 0, 0),\n",
       " datetime.datetime(2025, 5, 1, 0, 0),\n",
       " datetime.datetime(2025, 6, 13, 0, 0),\n",
       " datetime.datetime(2025, 6, 19, 0, 0),\n",
       " datetime.datetime(2025, 7, 9, 0, 0),\n",
       " datetime.datetime(2025, 9, 7, 0, 0),\n",
       " datetime.datetime(2025, 10, 12, 0, 0),\n",
       " datetime.datetime(2025, 10, 28, 0, 0),\n",
       " datetime.datetime(2025, 11, 2, 0, 0),\n",
       " datetime.datetime(2025, 11, 15, 0, 0),\n",
       " datetime.datetime(2025, 11, 20, 0, 0),\n",
       " datetime.datetime(2025, 11, 20, 0, 0),\n",
       " datetime.datetime(2025, 12, 8, 0, 0),\n",
       " datetime.datetime(2025, 12, 24, 0, 0),\n",
       " datetime.datetime(2025, 12, 25, 0, 0),\n",
       " datetime.datetime(2025, 12, 31, 0, 0)]"
      ]
     },
     "execution_count": 7,
     "metadata": {},
     "output_type": "execute_result"
    }
   ],
   "source": [
    "holidays.create_list()"
   ]
  },
  {
   "cell_type": "markdown",
   "metadata": {},
   "source": [
    "<br>\n",
    "\n",
    "E uma tabela"
   ]
  },
  {
   "cell_type": "code",
   "execution_count": 8,
   "metadata": {},
   "outputs": [],
   "source": [
    "df = holidays.create_table()\n",
    "df.to_markdown(buf=data_path / 'meus_feriados.md', index=False)"
   ]
  }
 ],
 "metadata": {
  "kernelspec": {
   "display_name": "brazilian-holidays",
   "language": "python",
   "name": "python3"
  },
  "language_info": {
   "codemirror_mode": {
    "name": "ipython",
    "version": 3
   },
   "file_extension": ".py",
   "mimetype": "text/x-python",
   "name": "python",
   "nbconvert_exporter": "python",
   "pygments_lexer": "ipython3",
   "version": "3.11.12"
  }
 },
 "nbformat": 4,
 "nbformat_minor": 2
}
