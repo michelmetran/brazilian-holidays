{
 "cells": [
  {
   "cell_type": "markdown",
   "metadata": {},
   "source": [
    "<br>\n",
    "\n",
    "\n",
    "# Meus Feriados\n",
    "\n",
    "\n",
    "<a target=\"_blank\" href=\"https://colab.research.google.com/github/michelmetran/brazilian-holidays/blob/main/docs/scripts/02_meus_feriados.ipynb\">\n",
    "  <img src=\"https://colab.research.google.com/assets/colab-badge.svg\" alt=\"Open In Colab\"/>\n",
    "</a>\n",
    "\n",
    "Esses são os feriados que eu uso, na minha cidade, em análises de séries temporais etc."
   ]
  },
  {
   "cell_type": "code",
   "execution_count": null,
   "metadata": {},
   "outputs": [],
   "source": [
    "#!pip3 install brazilian-holidays"
   ]
  },
  {
   "cell_type": "code",
   "execution_count": null,
   "metadata": {},
   "outputs": [],
   "source": [
    "from my_paths import data_path\n",
    "\n",
    "import brazilian_holidays"
   ]
  },
  {
   "cell_type": "code",
   "execution_count": null,
   "metadata": {},
   "outputs": [],
   "source": [
    "holidays = brazilian_holidays.Holidays(year=2024)\n",
    "\n",
    "# Add All\n",
    "holidays.add_all()\n",
    "\n",
    "# Add Customs\n",
    "holidays.add_custom(\n",
    "    name='Santo Antonio',\n",
    "    month=6,\n",
    "    day=13,\n",
    "    holiday=True,\n",
    "    type='Fixo',\n",
    "    obs='Feriado Municipal de Piracicaba',\n",
    ")\n",
    "holidays.add_custom(\n",
    "    name='Zumbi dos Palmares',\n",
    "    month=11,\n",
    "    day=20,\n",
    "    holiday=True,\n",
    "    type='Fixo',\n",
    "    obs='Feriado Municipal de Piracicaba',\n",
    ")\n",
    "holidays.add_custom(\n",
    "    name='Imaculada Conceição',\n",
    "    month=12,\n",
    "    day=8,\n",
    "    holiday=True,\n",
    "    type='Fixo',\n",
    "    obs='Feriado Municipal de Piracicaba',\n",
    ")\n",
    "holidays.add_custom(\n",
    "    name='Revolução Constitucionalista',\n",
    "    month=7,\n",
    "    day=9,\n",
    "    holiday=True,\n",
    "    type='Fixo',\n",
    "    obs='Feriado Estadual',\n",
    ")\n",
    "holidays.add_custom(\n",
    "    name='Dia do Servidor Público',\n",
    "    month=10,\n",
    "    day=28,\n",
    "    holiday=True,\n",
    "    type='Fixo',\n",
    ")\n",
    "\n",
    "# Results\n",
    "holidays"
   ]
  },
  {
   "cell_type": "markdown",
   "metadata": {},
   "source": [
    "<br>\n",
    "\n",
    "Por fim, crio uma lista."
   ]
  },
  {
   "cell_type": "code",
   "execution_count": null,
   "metadata": {},
   "outputs": [],
   "source": [
    "holidays.create_list()"
   ]
  },
  {
   "cell_type": "markdown",
   "metadata": {},
   "source": [
    "<br>\n",
    "\n",
    "E uma tabela"
   ]
  },
  {
   "cell_type": "code",
   "execution_count": null,
   "metadata": {},
   "outputs": [],
   "source": [
    "df = holidays.create_table()\n",
    "df.to_markdown(data_path / 'meus_feriados.md', index=False)"
   ]
  }
 ],
 "metadata": {
  "kernelspec": {
   "display_name": "pablocarreira-lastest",
   "language": "python",
   "name": "python3"
  },
  "language_info": {
   "codemirror_mode": {
    "name": "ipython",
    "version": 3
   },
   "file_extension": ".py",
   "mimetype": "text/x-python",
   "name": "python",
   "nbconvert_exporter": "python",
   "pygments_lexer": "ipython3",
   "version": "3.10.13"
  }
 },
 "nbformat": 4,
 "nbformat_minor": 2
}
