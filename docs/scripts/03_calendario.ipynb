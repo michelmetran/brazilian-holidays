{
 "cells": [
  {
   "cell_type": "markdown",
   "metadata": {},
   "source": [
    "<br>\n",
    "\n",
    "# Calendário\n",
    "\n",
    "<a target=\"_blank\" href=\"https://colab.research.google.com/github/michelmetran/brazilian-holidays/blob/main/docs/scripts/03_calendario.ipynb\">\n",
    "  <img src=\"https://colab.research.google.com/assets/colab-badge.svg\" alt=\"Open In Colab\"/>\n",
    "</a>\n",
    "\n",
    "<br>\n",
    "\n",
    "Além da _Classe_ `Holidays`, que é possível definir feriados para um dado ano, existe também a _classe_ `Calendario`, que vista agregar mais de um conjunto de anos.\n"
   ]
  },
  {
   "cell_type": "code",
   "execution_count": 10,
   "metadata": {},
   "outputs": [],
   "source": [
    "#!pip3 install brazilian-holidays"
   ]
  },
  {
   "cell_type": "code",
   "execution_count": 11,
   "metadata": {},
   "outputs": [],
   "source": [
    "from my_paths import data_path\n",
    "\n",
    "import brazilian_holidays"
   ]
  },
  {
   "cell_type": "markdown",
   "metadata": {},
   "source": [
    "<br>\n",
    "\n",
    "Inicialmente instanciamos o objeto.\n"
   ]
  },
  {
   "cell_type": "code",
   "execution_count": 12,
   "metadata": {},
   "outputs": [
    {
     "data": {
      "text/plain": [
       "Não existem feriados listados"
      ]
     },
     "execution_count": 12,
     "metadata": {},
     "output_type": "execute_result"
    }
   ],
   "source": [
    "# Resultados\n",
    "calendario = brazilian_holidays.Calendario()\n",
    "calendario"
   ]
  },
  {
   "cell_type": "markdown",
   "metadata": {},
   "source": [
    "<br>\n",
    "\n",
    "---\n",
    "\n",
    "## Adicionando Anos\n",
    "\n",
    "Criamos dois conjuntos de feriados, de anos distintos.\n"
   ]
  },
  {
   "cell_type": "code",
   "execution_count": 13,
   "metadata": {},
   "outputs": [],
   "source": [
    "holidays_23 = brazilian_holidays.Holidays(year=2023)\n",
    "holidays_23.add_all()\n",
    "\n",
    "holidays_24 = brazilian_holidays.Holidays(year=2024)\n",
    "holidays_24.add_all()"
   ]
  },
  {
   "cell_type": "markdown",
   "metadata": {},
   "source": [
    "<br>\n",
    "\n",
    "E adicionamos...\n"
   ]
  },
  {
   "cell_type": "code",
   "execution_count": 14,
   "metadata": {},
   "outputs": [
    {
     "data": {
      "text/plain": [
       "Existe(m) 40 feriado(s) listado(s):\n",
       "Confraternização Universal\n",
       "Aniversário da Cidade de São Paulo\n",
       "Carnaval (seg)\n",
       "Carnaval (ter)\n",
       "Carnaval (qua)\n",
       "Domingo de Ramos\n",
       "Endoenças\n",
       "Sexta-feira Santa\n",
       "Páscoa\n",
       "Tiradentes\n",
       "Dia do Trabalho\n",
       "Corpus Christ\n",
       "Independência do Brasil\n",
       "Dia de Nossa Senhora Aparecida\n",
       "Dia de Finados\n",
       "Proclamação da República\n",
       "Dia da Consciência Negra\n",
       "Véspera de Natal\n",
       "Natal\n",
       "Reveillon\n",
       "Confraternização Universal\n",
       "Aniversário da Cidade de São Paulo\n",
       "Carnaval (seg)\n",
       "Carnaval (ter)\n",
       "Carnaval (qua)\n",
       "Domingo de Ramos\n",
       "Endoenças\n",
       "Sexta-feira Santa\n",
       "Páscoa\n",
       "Tiradentes\n",
       "Dia do Trabalho\n",
       "Corpus Christ\n",
       "Independência do Brasil\n",
       "Dia de Nossa Senhora Aparecida\n",
       "Dia de Finados\n",
       "Proclamação da República\n",
       "Dia da Consciência Negra\n",
       "Véspera de Natal\n",
       "Natal\n",
       "Reveillon"
      ]
     },
     "execution_count": 14,
     "metadata": {},
     "output_type": "execute_result"
    }
   ],
   "source": [
    "calendario.add(holidays_23)\n",
    "calendario.add(holidays_24)\n",
    "\n",
    "# Results\n",
    "calendario"
   ]
  },
  {
   "cell_type": "markdown",
   "metadata": {},
   "source": [
    "<br>\n",
    "\n",
    "---\n",
    "\n",
    "## Resultados\n",
    "\n",
    "Acim como no objeto `Holidays`, também é possível ver os resultados de três maneiras distintas:\n",
    "\n",
    "1. Em formato de tabela `Dataframe` (do pandas).\n",
    "2. Em formato de lista, contendo apenas as datas, no formato `datetime`\n",
    "3. Em formato de lista, contendo apenas as datas, no formato `date`\n"
   ]
  },
  {
   "cell_type": "code",
   "execution_count": null,
   "metadata": {},
   "outputs": [
    {
     "name": "stdout",
     "output_type": "stream",
     "text": [
      "<class 'pandas.core.frame.DataFrame'>\n",
      "RangeIndex: 40 entries, 0 to 39\n",
      "Data columns (total 6 columns):\n",
      " #   Column      Non-Null Count  Dtype         \n",
      "---  ------      --------------  -----         \n",
      " 0   date        40 non-null     datetime64[ns]\n",
      " 1   dia_semana  40 non-null     object        \n",
      " 2   name        40 non-null     object        \n",
      " 3   holiday     40 non-null     bool          \n",
      " 4   type        40 non-null     object        \n",
      " 5   obs         40 non-null     object        \n",
      "dtypes: bool(1), datetime64[ns](1), object(4)\n",
      "memory usage: 1.7+ KB\n"
     ]
    }
   ],
   "source": [
    "# Create Table\n",
    "df_holidays = calendario.create_table()\n",
    "\n",
    "# Results\n",
    "df_holidays.info()\n",
    "df_holidays.head(2)\n",
    "\n",
    "# Save\n",
    "df_holidays.to_csv(\n",
    "    path_or_buf=data_path / 'calendario.csv',\n",
    "    index=False,\n",
    ")"
   ]
  },
  {
   "cell_type": "markdown",
   "metadata": {},
   "source": [
    "<br>\n",
    "\n",
    "É possível obter os feriados em formato `datetime`.\n"
   ]
  },
  {
   "cell_type": "code",
   "execution_count": 16,
   "metadata": {},
   "outputs": [
    {
     "name": "stdout",
     "output_type": "stream",
     "text": [
      "Existe(m) 40 feriado(s)\n"
     ]
    },
    {
     "data": {
      "text/plain": [
       "[datetime.datetime(2023, 1, 1, 0, 0),\n",
       " datetime.datetime(2023, 1, 25, 0, 0),\n",
       " datetime.datetime(2023, 2, 20, 0, 0),\n",
       " datetime.datetime(2023, 2, 21, 0, 0),\n",
       " datetime.datetime(2023, 2, 22, 0, 0),\n",
       " datetime.datetime(2023, 4, 2, 0, 0),\n",
       " datetime.datetime(2023, 4, 6, 0, 0),\n",
       " datetime.datetime(2023, 4, 7, 0, 0),\n",
       " datetime.datetime(2023, 4, 9, 0, 0),\n",
       " datetime.datetime(2023, 4, 21, 0, 0),\n",
       " datetime.datetime(2023, 5, 1, 0, 0),\n",
       " datetime.datetime(2023, 6, 8, 0, 0),\n",
       " datetime.datetime(2023, 9, 7, 0, 0),\n",
       " datetime.datetime(2023, 10, 12, 0, 0),\n",
       " datetime.datetime(2023, 11, 2, 0, 0),\n",
       " datetime.datetime(2023, 11, 15, 0, 0),\n",
       " datetime.datetime(2023, 11, 20, 0, 0),\n",
       " datetime.datetime(2023, 12, 24, 0, 0),\n",
       " datetime.datetime(2023, 12, 25, 0, 0),\n",
       " datetime.datetime(2023, 12, 31, 0, 0),\n",
       " datetime.datetime(2024, 1, 1, 0, 0),\n",
       " datetime.datetime(2024, 1, 25, 0, 0),\n",
       " datetime.datetime(2024, 2, 12, 0, 0),\n",
       " datetime.datetime(2024, 2, 13, 0, 0),\n",
       " datetime.datetime(2024, 2, 14, 0, 0),\n",
       " datetime.datetime(2024, 3, 24, 0, 0),\n",
       " datetime.datetime(2024, 3, 28, 0, 0),\n",
       " datetime.datetime(2024, 3, 29, 0, 0),\n",
       " datetime.datetime(2024, 3, 31, 0, 0),\n",
       " datetime.datetime(2024, 4, 21, 0, 0),\n",
       " datetime.datetime(2024, 5, 1, 0, 0),\n",
       " datetime.datetime(2024, 5, 30, 0, 0),\n",
       " datetime.datetime(2024, 9, 7, 0, 0),\n",
       " datetime.datetime(2024, 10, 12, 0, 0),\n",
       " datetime.datetime(2024, 11, 2, 0, 0),\n",
       " datetime.datetime(2024, 11, 15, 0, 0),\n",
       " datetime.datetime(2024, 11, 20, 0, 0),\n",
       " datetime.datetime(2024, 12, 24, 0, 0),\n",
       " datetime.datetime(2024, 12, 25, 0, 0),\n",
       " datetime.datetime(2024, 12, 31, 0, 0)]"
      ]
     },
     "execution_count": 16,
     "metadata": {},
     "output_type": "execute_result"
    }
   ],
   "source": [
    "calendario.create_list(tipo='datetime')"
   ]
  },
  {
   "cell_type": "markdown",
   "metadata": {},
   "source": [
    "<br>\n",
    "\n",
    "É possível obter os feriados em formato `date`, ideal para uso no [prophet](https://facebook.github.io/prophet/).\n"
   ]
  },
  {
   "cell_type": "code",
   "execution_count": 17,
   "metadata": {},
   "outputs": [
    {
     "name": "stdout",
     "output_type": "stream",
     "text": [
      "Existe(m) 40 feriado(s)\n"
     ]
    },
    {
     "data": {
      "text/plain": [
       "[datetime.date(2023, 1, 1),\n",
       " datetime.date(2023, 1, 25),\n",
       " datetime.date(2023, 2, 20),\n",
       " datetime.date(2023, 2, 21),\n",
       " datetime.date(2023, 2, 22),\n",
       " datetime.date(2023, 4, 2),\n",
       " datetime.date(2023, 4, 6),\n",
       " datetime.date(2023, 4, 7),\n",
       " datetime.date(2023, 4, 9),\n",
       " datetime.date(2023, 4, 21),\n",
       " datetime.date(2023, 5, 1),\n",
       " datetime.date(2023, 6, 8),\n",
       " datetime.date(2023, 9, 7),\n",
       " datetime.date(2023, 10, 12),\n",
       " datetime.date(2023, 11, 2),\n",
       " datetime.date(2023, 11, 15),\n",
       " datetime.date(2023, 11, 20),\n",
       " datetime.date(2023, 12, 24),\n",
       " datetime.date(2023, 12, 25),\n",
       " datetime.date(2023, 12, 31),\n",
       " datetime.date(2024, 1, 1),\n",
       " datetime.date(2024, 1, 25),\n",
       " datetime.date(2024, 2, 12),\n",
       " datetime.date(2024, 2, 13),\n",
       " datetime.date(2024, 2, 14),\n",
       " datetime.date(2024, 3, 24),\n",
       " datetime.date(2024, 3, 28),\n",
       " datetime.date(2024, 3, 29),\n",
       " datetime.date(2024, 3, 31),\n",
       " datetime.date(2024, 4, 21),\n",
       " datetime.date(2024, 5, 1),\n",
       " datetime.date(2024, 5, 30),\n",
       " datetime.date(2024, 9, 7),\n",
       " datetime.date(2024, 10, 12),\n",
       " datetime.date(2024, 11, 2),\n",
       " datetime.date(2024, 11, 15),\n",
       " datetime.date(2024, 11, 20),\n",
       " datetime.date(2024, 12, 24),\n",
       " datetime.date(2024, 12, 25),\n",
       " datetime.date(2024, 12, 31)]"
      ]
     },
     "execution_count": 17,
     "metadata": {},
     "output_type": "execute_result"
    }
   ],
   "source": [
    "calendario.create_list(tipo='date')"
   ]
  }
 ],
 "metadata": {
  "kernelspec": {
   "display_name": "brazilian-holidays",
   "language": "python",
   "name": "python3"
  },
  "language_info": {
   "codemirror_mode": {
    "name": "ipython",
    "version": 3
   },
   "file_extension": ".py",
   "mimetype": "text/x-python",
   "name": "python",
   "nbconvert_exporter": "python",
   "pygments_lexer": "ipython3",
   "version": "3.11.12"
  }
 },
 "nbformat": 4,
 "nbformat_minor": 2
}
