{
 "cells": [
  {
   "cell_type": "markdown",
   "metadata": {},
   "source": [
    "<br>\n",
    "\n",
    "# Calendário\n",
    "\n",
    "Além da *Classe* `Holidays`, que é possível definir feriados para um dado ano, existe também a *classe* `Calendario`, que vista agregar mais de um conjunto de anos."
   ]
  },
  {
   "cell_type": "code",
   "execution_count": null,
   "metadata": {},
   "outputs": [],
   "source": [
    "import brazilian_holidays"
   ]
  },
  {
   "cell_type": "markdown",
   "metadata": {},
   "source": [
    "<br>\n",
    "\n",
    "Inicialmente instanciamos o objeto."
   ]
  },
  {
   "cell_type": "code",
   "execution_count": null,
   "metadata": {},
   "outputs": [],
   "source": [
    "# Resultados\n",
    "calendario = brazilian_holidays.Calendario()\n",
    "calendario"
   ]
  },
  {
   "cell_type": "markdown",
   "metadata": {},
   "source": [
    "<br>\n",
    "\n",
    "----\n",
    "\n",
    "\n",
    "## Adicionando Anos\n",
    "\n",
    "Criamos dois conjuntos de feriados, de anos distintos."
   ]
  },
  {
   "cell_type": "code",
   "execution_count": null,
   "metadata": {},
   "outputs": [],
   "source": [
    "holidays_23 = brazilian_holidays.Holidays(year=2023)\n",
    "holidays_23.add_all()\n",
    "\n",
    "holidays_24 = brazilian_holidays.Holidays(year=2024)\n",
    "holidays_24.add_all()"
   ]
  },
  {
   "cell_type": "markdown",
   "metadata": {},
   "source": [
    "<br>\n",
    "\n",
    "E adicionamos..."
   ]
  },
  {
   "cell_type": "code",
   "execution_count": null,
   "metadata": {},
   "outputs": [],
   "source": [
    "calendario.add(holidays_23)\n",
    "calendario.add(holidays_24)\n",
    "\n",
    "# Results\n",
    "calendario"
   ]
  },
  {
   "cell_type": "markdown",
   "metadata": {},
   "source": [
    "<br>\n",
    "\n",
    "----\n",
    "\n",
    "## Resultados\n",
    "\n",
    "\n",
    "Acim como no objeto `Holidays`, também   é possível ver os resultados de três maneiras distintas:\n",
    "\n",
    "1. Em formato de tabela `Dataframe` (do pandas).\n",
    "2. Em formato de lista, contendo apenas as datas, no formato `datetime`\n",
    "3. Em formato de lista, contendo apenas as datas, no formato `date`\n"
   ]
  },
  {
   "cell_type": "code",
   "execution_count": null,
   "metadata": {},
   "outputs": [],
   "source": [
    "from my_paths import data_path\n",
    "\n",
    "# Create Table\n",
    "df_holidays = calendario.create_table()\n",
    "\n",
    "# Results\n",
    "df_holidays.info()\n",
    "df_holidays.head(2)\n",
    "\n",
    "# Save\n",
    "df_holidays.to_csv(data_path / 'calendario.csv', index=False)"
   ]
  },
  {
   "cell_type": "markdown",
   "metadata": {},
   "source": [
    "<br>\n",
    "\n",
    "É possível obter os feriados em formato `datetime`."
   ]
  },
  {
   "cell_type": "code",
   "execution_count": null,
   "metadata": {},
   "outputs": [],
   "source": [
    "calendario.create_list(tipo='datetime')\n"
   ]
  },
  {
   "cell_type": "markdown",
   "metadata": {},
   "source": [
    "<br>\n",
    "\n",
    "É possível obter os feriados em formato `date`, ideal para uso no [prophet](https://facebook.github.io/prophet/)."
   ]
  },
  {
   "cell_type": "code",
   "execution_count": null,
   "metadata": {},
   "outputs": [],
   "source": [
    "calendario.create_list(tipo='date')"
   ]
  }
 ],
 "metadata": {
  "kernelspec": {
   "display_name": "pablocarreira-lastest",
   "language": "python",
   "name": "python3"
  },
  "language_info": {
   "codemirror_mode": {
    "name": "ipython",
    "version": 3
   },
   "file_extension": ".py",
   "mimetype": "text/x-python",
   "name": "python",
   "nbconvert_exporter": "python",
   "pygments_lexer": "ipython3",
   "version": "3.10.13"
  }
 },
 "nbformat": 4,
 "nbformat_minor": 2
}
