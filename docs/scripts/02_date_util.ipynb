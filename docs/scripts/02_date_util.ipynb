{
 "cells": [
  {
   "attachments": {},
   "cell_type": "markdown",
   "metadata": {},
   "source": [
    "<br>\n",
    "\n",
    "# Introdução\n",
    "\n",
    "- [python-dateutil](http://labix.org/python-dateutil#head-470fa22b2db72000d7abe698a5783a46b0731b57), dezenas de exemplos\n",
    "- [readthedocs](https://dateutil.readthedocs.io/en/stable/)\n",
    "\n",
    "\n",
    "Date-Util\n",
    "\n",
    "Para usar o date-util, preciso chegar do seguinte formato. Quero chegar a partir de uma tabela!\n",
    "\n",
    "`[datetime.datetime(2023, 6, 17, 0, 0), datetime.datetime(2023, 6, 16, 0, 0)]`\n",
    "\n",
    "\n",
    "proximo_dia_util"
   ]
  },
  {
   "cell_type": "code",
   "execution_count": null,
   "metadata": {},
   "outputs": [],
   "source": [
    "import importlib\n",
    "from datetime import date, datetime, timedelta\n",
    "\n",
    "from dateutil import parser, rrule\n",
    "from my_paths import data_path, project_path\n",
    "\n",
    "from brazilian_holidays import datas\n",
    "\n",
    "importlib.reload(datas)"
   ]
  },
  {
   "attachments": {},
   "cell_type": "markdown",
   "metadata": {},
   "source": [
    "<br>\n",
    "\n",
    "## Estudos\n"
   ]
  },
  {
   "cell_type": "code",
   "execution_count": null,
   "metadata": {},
   "outputs": [],
   "source": [
    "list(\n",
    "    rrule.rrule(\n",
    "        rrule.DAILY,\n",
    "        byweekday=[rrule.MO, rrule.TU, rrule.WE, rrule.TH, rrule.FR],\n",
    "        count=10,\n",
    "        dtstart=parser.parse('19970902T090000'),\n",
    "    )\n",
    ")"
   ]
  },
  {
   "attachments": {},
   "cell_type": "markdown",
   "metadata": {},
   "source": [
    "<br>\n",
    "\n",
    "## Próximo dia útil\n",
    "\n",
    "No artigo [StackOverFlow: **Datetime Python - Next Business Day**](https://stackoverflow.com/questions/9187215/datetime-python-next-business-day) descobri que dá pra definir feriados!!! E usar isso na biblioteca _dateutil_ para excluir das regras!!!\n"
   ]
  },
  {
   "cell_type": "code",
   "execution_count": null,
   "metadata": {},
   "outputs": [],
   "source": [
    "list(\n",
    "    rrule.rrule(\n",
    "        rrule.MINUTELY,\n",
    "        byhour=range(9, 17),\n",
    "        byminute=(0, 30),\n",
    "        # interval=30,\n",
    "        byweekday=[rrule.MO, rrule.TU, rrule.WE, rrule.TH, rrule.FR],\n",
    "        count=20,\n",
    "        dtstart=date.today(),\n",
    "    )\n",
    ")"
   ]
  },
  {
   "attachments": {},
   "cell_type": "markdown",
   "metadata": {},
   "source": [
    "<br>\n",
    "\n",
    "## Feriados Brasileiros"
   ]
  },
  {
   "cell_type": "code",
   "execution_count": null,
   "metadata": {},
   "outputs": [],
   "source": [
    "ANO = date.today().year\n",
    "print(ANO)\n",
    "feriados = datas.Feriados(ano=ANO)\n",
    "feriados.add_all()\n",
    "holidays = feriados.create_list(tipo='datetime')\n",
    "holidays"
   ]
  },
  {
   "cell_type": "code",
   "execution_count": null,
   "metadata": {},
   "outputs": [],
   "source": [
    "# Feriados\n",
    "# holidays = [\n",
    "#     datetime(2023, 6, 17, 0, 0, 0),\n",
    "#     datetime(2023, 6, 16, 0, 0, 0),\n",
    "# ]\n",
    "\n",
    "# Create a rule to recur every weekday starting today\n",
    "r = rrule.rrule(\n",
    "    rrule.DAILY,\n",
    "    byweekday=[rrule.MO, rrule.TU, rrule.WE, rrule.TH, rrule.FR],\n",
    "    count=15,\n",
    "    dtstart=date.today(),\n",
    "    #dtstart=date(2023, 6, 9),\n",
    ")\n",
    "\n",
    "# Create a rruleset\n",
    "rs = rrule.rruleset()\n",
    "\n",
    "# Attach our rrule to it\n",
    "rs.rrule(r)\n",
    "\n",
    "# Add holidays as exclusion days\n",
    "for holiday in holidays:\n",
    "    rs.exdate(holiday)"
   ]
  },
  {
   "cell_type": "code",
   "execution_count": null,
   "metadata": {},
   "outputs": [],
   "source": [
    "list(rs)"
   ]
  },
  {
   "attachments": {},
   "cell_type": "markdown",
   "metadata": {},
   "source": [
    "<br>\n",
    "\n",
    "## Feriados nos EUA\n",
    "\n",
    "- [adamJLev/holidays.py](https://gist.github.com/adamJLev/7535869), Gets US holidays rrules, to be used with python-dateutil and exrules\n"
   ]
  },
  {
   "cell_type": "code",
   "execution_count": null,
   "metadata": {},
   "outputs": [],
   "source": [
    "def get_schedule_holidays_rrules():\n",
    "    return [\n",
    "        # New Years\n",
    "        rrule.rrule(\n",
    "            rrule.YEARLY, dtstart=datetime.now(), bymonth=1, bymonthday=1\n",
    "        ),\n",
    "        # Memorial\n",
    "        rrule.rrule(\n",
    "            rrule.YEARLY,\n",
    "            dtstart=datetime.now(),\n",
    "            bymonth=5,\n",
    "            byweekday=rrule.MO(-1),\n",
    "        ),\n",
    "        # Independence\n",
    "        rrule.rrule(\n",
    "            rrule.YEARLY, dtstart=datetime.now(), bymonth=7, bymonthday=4\n",
    "        ),\n",
    "        # Thanksgiving\n",
    "        rrule.rrule(\n",
    "            rrule.YEARLY,\n",
    "            dtstart=datetime.now(),\n",
    "            bymonth=11,\n",
    "            byweekday=rrule.TH(4),\n",
    "        ),\n",
    "        # Christmas\n",
    "        rrule.rrule(\n",
    "            rrule.YEARLY, dtstart=datetime.now(), bymonth=12, bymonthday=25\n",
    "        ),\n",
    "    ]"
   ]
  },
  {
   "cell_type": "code",
   "execution_count": null,
   "metadata": {},
   "outputs": [],
   "source": [
    "get_schedule_holidays_rrules()"
   ]
  },
  {
   "cell_type": "code",
   "execution_count": null,
   "metadata": {},
   "outputs": [],
   "source": [
    "list(\n",
    "    rrule.rrule(\n",
    "        rrule.YEARLY,\n",
    "        dtstart=date.today(),\n",
    "        bymonth=11,\n",
    "        byweekday=rrule.TH(4),\n",
    "        count=1,\n",
    "    ),\n",
    ")"
   ]
  }
 ],
 "metadata": {
  "kernelspec": {
   "display_name": "cash-lastest",
   "language": "python",
   "name": "python3"
  },
  "language_info": {
   "codemirror_mode": {
    "name": "ipython",
    "version": 3
   },
   "file_extension": ".py",
   "mimetype": "text/x-python",
   "name": "python",
   "nbconvert_exporter": "python",
   "pygments_lexer": "ipython3",
   "version": "3.9.16"
  }
 },
 "nbformat": 4,
 "nbformat_minor": 2
}
