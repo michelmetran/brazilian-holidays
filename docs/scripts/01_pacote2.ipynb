{
 "cells": [
  {
   "cell_type": "markdown",
   "metadata": {},
   "source": [
    "<br>\n",
    "\n",
    "# Como Usar?\n",
    "\n",
    "Existem diversos feriados no Brasil. Os feriados nacionais ocorrem para todos os estados, existem os feriados estaduais, que ocorrem em um único estado, além dos feriados municipais.\n",
    "\n",
    "Além disso, existe alguns dias que são feriados em uma empresa/instituição e outras não.\n",
    "\n",
    "Visando resolver isso, o presente pacote visa facilitar a criação de listas (e tabelas) contendo os feriados, partindo do princípio que há uma \"cesta\" de \"feriados disponíveis\" e o usuário pode obte-los, além de acrescentar outros feriados customizados."
   ]
  },
  {
   "cell_type": "code",
   "metadata": {},
   "outputs": [],
   "source": [
    "import brazilian_holidays"
   ]
  },
  {
   "cell_type": "code",
   "execution_count": null,
   "metadata": {},
   "outputs": [],
   "source": [
    "import importlib\n",
    "from datetime import date, datetime, timedelta\n",
    "\n",
    "import numpy as np\n",
    "import pandas as pd\n",
    "from my_paths import data_path\n",
    "\n",
    "\n",
    "\n"
   ]
  },
  {
   "cell_type": "code",
   "execution_count": null,
   "metadata": {},
   "outputs": [],
   "source": [
    "# Check Version\n",
    "import brazilian_holidays\n",
    "## brazilian_holidays.__version__"
   ]
  },
  {
   "cell_type": "markdown",
   "metadata": {},
   "source": [
    "<br>\n",
    "\n",
    "A maneira mais simples é obter todos os feriados para um determinado ano é instanciando o objeto *Holidays* e adicionando todos os feriados disponíveis.\n",
    "\n",
    "Dessa forma os atributos serão definidos por padrão.\n"
   ]
  },
  {
   "cell_type": "code",
   "execution_count": null,
   "metadata": {},
   "outputs": [],
   "source": [
    "holidays = brazilian_holidays.Holidays(year=2023)\n",
    "holidays"
   ]
  },
  {
   "cell_type": "code",
   "execution_count": null,
   "metadata": {},
   "outputs": [],
   "source": [
    "holidays.feriados_disponiveis"
   ]
  },
  {
   "cell_type": "code",
   "execution_count": null,
   "metadata": {},
   "outputs": [],
   "source": [
    "holidays = brazilian_holidays.Holidays(year=2023)\n",
    "holidays.add_all()\n",
    "\n",
    "# Results\n",
    "df = holidays.create_table()\n",
    "df.head(10)"
   ]
  },
  {
   "cell_type": "code",
   "metadata": {},
   "outputs": [],
   "source": [
    "holidays.add(name='Páscoa')"
   ]
  },
  {
   "cell_type": "code",
   "execution_count": null,
   "metadata": {},
   "outputs": [],
   "source": [
    "holidays = brazilian_holidays.Holidays(year=2023)\n",
    "holidays.add_all()\n",
    "df = holidays.create_table()\n",
    "df.head(10)"
   ]
  },
  {
   "cell_type": "code",
   "execution_count": null,
   "metadata": {},
   "outputs": [],
   "source": [
    "holidays = brazilian_holidays.Holidays(year=2023)\n",
    "holidays.add_all()\n",
    "holidays.create_list(tipo='datetime')"
   ]
  },
  {
   "cell_type": "code",
   "execution_count": null,
   "metadata": {},
   "outputs": [],
   "source": [
    "holidays = brazilian_holidays.Holidays(year=2023)\n",
    "holidays.add_all()\n",
    "holidays.add_custom(\n",
    "    name='Santo Antonio',\n",
    "    month=6,\n",
    "    day=13,\n",
    "    holiday=True,\n",
    "    type='Fixo',\n",
    "    obs='Feriado Municipal de Piracicaba',\n",
    ")\n",
    "holidays.add_custom(\n",
    "    name='Zumbi dos Palmares',\n",
    "    month=11,\n",
    "    day=20,\n",
    "    holiday=True,\n",
    "    type='Fixo',\n",
    "    obs='Feriado Municipal de Piracicaba',\n",
    ")\n",
    "holidays.add_custom(\n",
    "    name='Imaculada Conceição',\n",
    "    month=12,\n",
    "    day=8,\n",
    "    holiday=True,\n",
    "    type='Fixo',\n",
    "    obs='Feriado Municipal de Piracicaba',\n",
    ")\n",
    "holidays.add_custom(\n",
    "    name='Revolução Constitucionalista',\n",
    "    month=7,\n",
    "    day=9,\n",
    "    holiday=True,\n",
    "    type='Fixo',\n",
    "    obs='Feriado Estadual',\n",
    ")\n",
    "holidays.add_custom(\n",
    "    name='Dia do Servidor Público',\n",
    "    month=10,\n",
    "    day=28,\n",
    "    holiday=True,\n",
    "    type='Fixo',\n",
    ")\n",
    "\n",
    "\n",
    "holidays"
   ]
  },
  {
   "cell_type": "code",
   "execution_count": null,
   "metadata": {},
   "outputs": [],
   "source": [
    "holidays = brazilian_holidays.Holidays(year=2024)\n",
    "holidays.add_all()\n",
    "holidays.next_feriado()"
   ]
  },
  {
   "cell_type": "code",
   "execution_count": null,
   "metadata": {},
   "outputs": [],
   "source": [
    "holidays = brazilian_holidays.Holidays(year=2024)\n",
    "holidays.add_all()\n",
    "holidays.remove('Domingo de Ramos')\n",
    "holidays.remove('Endoenças')\n",
    "holidays.remove('Dia da Consciência Negra')\n",
    "holidays"
   ]
  },
  {
   "cell_type": "markdown",
   "metadata": {},
   "source": [
    "<br>\n",
    "\n",
    "## Tabela\n"
   ]
  },
  {
   "cell_type": "code",
   "execution_count": null,
   "metadata": {},
   "outputs": [],
   "source": [
    "# Create Table\n",
    "df_holidays = holidays.create_table()\n",
    "\n",
    "# Resultados\n",
    "display(df_holidays.info())\n",
    "display(df_holidays.head(2))"
   ]
  },
  {
   "cell_type": "code",
   "execution_count": null,
   "metadata": {},
   "outputs": [],
   "source": [
    "# df_feriados.to_csv(data_path / f'feriados.csv', index=False)\n",
    "# df_feriados.to_excel(data_path / f'feriado.xlsx', index=False)"
   ]
  },
  {
   "attachments": {},
   "cell_type": "markdown",
   "metadata": {},
   "source": [
    "<br>\n",
    "\n",
    "## Calendário\n"
   ]
  },
  {
   "cell_type": "code",
   "execution_count": null,
   "metadata": {},
   "outputs": [],
   "source": [
    "holidays_22 = brazilian_holidays.Holidays(year=2022)\n",
    "holidays_22.add_all()\n",
    "# print(feriados_22)\n",
    "\n",
    "holidays_23 = brazilian_holidays.Holidays(year=2023)\n",
    "holidays_23.add_all()\n",
    "# feriados_23"
   ]
  },
  {
   "cell_type": "code",
   "execution_count": null,
   "metadata": {},
   "outputs": [],
   "source": [
    "# Resultados\n",
    "calendario = brazilian_holidays.Calendario()\n",
    "df_feriados = calendario.create_table(\n",
    "    tabelas_feriados=[holidays_22, holidays_23]\n",
    ")\n",
    "# df_feriados.to_csv(data_path / f'feriados_.csv', index=False)"
   ]
  },
  {
   "cell_type": "code",
   "execution_count": null,
   "metadata": {},
   "outputs": [],
   "source": [
    "print(calendario)"
   ]
  },
  {
   "cell_type": "code",
   "execution_count": null,
   "metadata": {},
   "outputs": [],
   "source": [
    "print(df_feriados.head(2))\n",
    "print(df_feriados.tail(2))"
   ]
  },
  {
   "cell_type": "code",
   "execution_count": null,
   "metadata": {},
   "outputs": [],
   "source": [
    "calendario.create_list(tipo='datetime')"
   ]
  },
  {
   "cell_type": "code",
   "execution_count": null,
   "metadata": {},
   "outputs": [],
   "source": []
  }
 ],
 "metadata": {
  "kernelspec": {
   "display_name": "pablocarreira-lastest",
   "language": "python",
   "name": "python3"
  },
  "language_info": {
   "codemirror_mode": {
    "name": "ipython",
    "version": 3
   },
   "file_extension": ".py",
   "mimetype": "text/x-python",
   "name": "python",
   "nbconvert_exporter": "python",
   "pygments_lexer": "ipython3",
   "version": "3.10.11"
  }
 },
 "nbformat": 4,
 "nbformat_minor": 2
}
